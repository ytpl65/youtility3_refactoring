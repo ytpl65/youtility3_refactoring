{
 "cells": [
  {
   "cell_type": "code",
   "execution_count": 1,
   "id": "ffcf8513",
   "metadata": {},
   "outputs": [],
   "source": [
    "import os, sys\n",
    "os.environ.setdefault(\"DJANGO_SETTINGS_MODULE\", \"intelliwiz_config,settings.py\")\n",
    "os.environ[\"DJANGO_ALLOW_ASYNC_UNSAFE\"] = \"true\"\n",
    "import django\n",
    "django.setup()"
   ]
  },
  {
   "cell_type": "code",
   "execution_count": 2,
   "id": "190d89d0",
   "metadata": {},
   "outputs": [],
   "source": [
    "# Model imports\n",
    "from apps.activity.models import Asset, Attachment, Device, DeviceEventlog, Event, Job, Jobneed, JobneedDetails, Location, Question, QuestionSet, QuestionSetBelonging, WorkPermit\n",
    "from apps.attendance.models import PeopleEventlog, TestGeo, Tracking\n",
    "from apps.onboarding.models import Bt, Contract, ContractDetail, GeofenceMaster, Shift, SitePeople, TypeAssist, WizardDraft\n",
    "from apps.peoples.models import Capability, People, PermissionGroup, Pgbelonging, Pgroup\n",
    "from apps.reminder.models import Reminder\n",
    "from apps.tenants.models import Tenant\n",
    "from apps.y_helpdesk.models import EscalationMatrix, Ticket\n",
    "\n",
    "# Shell Plus Django Imports\n",
    "from django.db import transaction\n",
    "from django.db.models import Avg, Case, Count, F, Max, Min, Prefetch, Q, Sum, When\n",
    "from django.utils import timezone\n",
    "from django.urls import reverse\n",
    "from django.db.models import Exists, OuterRef, Subquery"
   ]
  },
  {
   "cell_type": "code",
   "execution_count": 3,
   "id": "e895d0b8",
   "metadata": {},
   "outputs": [],
   "source": [
    "# Apps utils imports\n",
    "from apps.y_helpdesk.utils import send_ticket_email\n",
    "from apps.core import utils\n"
   ]
  },
  {
   "cell_type": "code",
   "execution_count": 19,
   "id": "c809085f",
   "metadata": {},
   "outputs": [
    {
     "data": {
      "text/plain": [
       "<QuerySet [('ICICI ASHER KOLSHET Rd', 'MUM0020', 10), ('ICICI BHIWANDI', 'MUM00021', 28), ('ICICI Indiranagar', 'BAN0001', 23), ('ICICI Phoenix Market City', 'MUM00_3', 39), ('ICICI Ridge Street', 'MUM027', 31)]>"
      ]
     },
     "execution_count": 19,
     "metadata": {},
     "output_type": "execute_result"
    }
   ],
   "source": [
    "Pgbelonging.objects.get_assigned_sites_to_people(52).values_list('bucode')\n"
   ]
  },
  {
   "cell_type": "code",
   "execution_count": 21,
   "id": "89318c8d",
   "metadata": {},
   "outputs": [],
   "source": [
    "p = People.objects.get(id=52)"
   ]
  },
  {
   "cell_type": "code",
   "execution_count": 23,
   "id": "4105a490",
   "metadata": {},
   "outputs": [
    {
     "data": {
      "text/plain": [
       "False"
      ]
     },
     "execution_count": 23,
     "metadata": {},
     "output_type": "execute_result"
    }
   ],
   "source": [
    "p.isverified"
   ]
  },
  {
   "cell_type": "code",
   "execution_count": null,
   "id": "dfba77ee",
   "metadata": {},
   "outputs": [],
   "source": []
  }
 ],
 "metadata": {
  "kernelspec": {
   "display_name": "Django Shell-Plus",
   "language": "python",
   "name": "django_extensions"
  },
  "language_info": {
   "codemirror_mode": {
    "name": "ipython",
    "version": 3
   },
   "file_extension": ".py",
   "mimetype": "text/x-python",
   "name": "python",
   "nbconvert_exporter": "python",
   "pygments_lexer": "ipython3",
   "version": "3.10.6"
  }
 },
 "nbformat": 4,
 "nbformat_minor": 5
}
