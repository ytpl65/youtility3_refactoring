{
 "cells": [
  {
   "cell_type": "code",
   "execution_count": 1,
   "id": "ffcf8513",
   "metadata": {},
   "outputs": [],
   "source": [
    "#django env setup\n",
    "import os, sys\n",
    "os.environ.setdefault(\"DJANGO_SETTINGS_MODULE\", \"intelliwiz_config,settings.py\")\n",
    "os.environ[\"DJANGO_ALLOW_ASYNC_UNSAFE\"] = \"true\"\n",
    "import django\n",
    "django.setup()"
   ]
  },
  {
   "cell_type": "code",
   "execution_count": 2,
   "id": "190d89d0",
   "metadata": {},
   "outputs": [],
   "source": [
    "# Model imports\n",
    "from apps.activity.models import Asset,AssetLog, Attachment, Device, DeviceEventlog, Event, Job, Jobneed, JobneedDetails, Location, Question, QuestionSet, QuestionSetBelonging, WorkPermit\n",
    "from apps.attendance.models import PeopleEventlog, TestGeo, Tracking\n",
    "from apps.onboarding.models import Bt,  GeofenceMaster, Shift, TypeAssist\n",
    "from apps.peoples.models import Capability, People, PermissionGroup, Pgbelonging, Pgroup\n",
    "from apps.reminder.models import Reminder\n",
    "from apps.tenants.models import Tenant\n",
    "from apps.y_helpdesk.models import EscalationMatrix, Ticket\n",
    "from apps.core import utils\n",
    "import pandas as pd\n",
    "\n",
    "# Shell Plus Django Imports\n",
    "from django.db import transaction\n",
    "from django.db.models import Avg, Case, Count, F, Max, Min, Prefetch, Q, Sum, When, ExpressionWrapper, Value as V\n",
    "from django.db.models.functions import Concat, Cast\n",
    "from django.utils import timezone\n",
    "from django.urls import reverse\n",
    "from django.db.models import Exists, OuterRef, Subquery, FloatField, CharField, IntegerField\n",
    "from datetime import datetime, timedelta"
   ]
  },
  {
   "cell_type": "code",
   "execution_count": 3,
   "id": "a4e1b685",
   "metadata": {},
   "outputs": [],
   "source": [
    "import pandas as pd\n",
    "from IPython.display import display, clear_output\n",
    "import ipywidgets as widgets\n",
    "from IPython.display import display as ipy_display\n",
    "\n",
    "def dq(queryset):\n",
    "    if not queryset: return None\n",
    "    if queryset := list(queryset):\n",
    "    \n",
    "        if isinstance(queryset, (list, tuple)):\n",
    "            # Handle values_list() queryset\n",
    "            df = pd.DataFrame(queryset)\n",
    "        elif isinstance(queryset, dict):\n",
    "            # Handle values() queryset\n",
    "            df = pd.DataFrame.from_records([queryset])\n",
    "        else:\n",
    "            # Handle regular queryset\n",
    "            data = list(queryset.values())\n",
    "            df = pd.DataFrame(data)\n",
    "\n",
    "        # Set pandas display options to show all rows and columns\n",
    "        pd.set_option('display.max_rows', None)\n",
    "        pd.set_option('display.max_columns', None)\n",
    "        pd.set_option('display.width', None)\n",
    "\n",
    "        # Get the specified column names\n",
    "        columns = list(queryset[0].keys())\n",
    "\n",
    "        # Filter the DataFrame based on the specified columns\n",
    "        df_filtered = df[columns]\n",
    "\n",
    "        # Create a scrollable output widget\n",
    "        output_widget = widgets.Output()\n",
    "\n",
    "        # Display the DataFrame inside the output widget\n",
    "        with output_widget:\n",
    "            clear_output()\n",
    "            display(df_filtered)\n",
    "\n",
    "        # Display the output widget\n",
    "        ipy_display(output_widget)\n",
    "    else:\n",
    "        print(\"Empty Queryset\")"
   ]
  },
  {
   "cell_type": "code",
   "execution_count": 23,
   "id": "77e0ed20",
   "metadata": {},
   "outputs": [],
   "source": [
    "latest_record = Ticket.objects.filter(~Q(ticketdesc='NONE') & ~Q(ticketno__isnull=True), client_id=6, bu_id = 7).order_by('-id').first()"
   ]
  },
  {
   "cell_type": "code",
   "execution_count": 24,
   "id": "bcde69a7",
   "metadata": {},
   "outputs": [
    {
     "data": {
      "text/plain": [
       "('SITE_1#9', datetime.datetime(2023, 7, 14, 13, 53, 36, tzinfo=<UTC>))"
      ]
     },
     "execution_count": 24,
     "metadata": {},
     "output_type": "execute_result"
    }
   ],
   "source": [
    "latest_record.ticketno, latest_record.cdtz"
   ]
  },
  {
   "cell_type": "code",
   "execution_count": 16,
   "id": "00854518",
   "metadata": {},
   "outputs": [
    {
     "data": {
      "text/plain": [
       "('SITE_1#9', datetime.datetime(2023, 7, 14, 13, 53, 36, tzinfo=<UTC>))"
      ]
     },
     "execution_count": 16,
     "metadata": {},
     "output_type": "execute_result"
    }
   ],
   "source": [
    "rec = Ticket.objects.filter(ticketno='SITE_1#9').first()\n",
    "rec.ticketno, rec.cdtz"
   ]
  },
  {
   "cell_type": "code",
   "execution_count": 21,
   "id": "c21f4a2a",
   "metadata": {},
   "outputs": [],
   "source": [
    "devtkt=Ticket.objects.get(ticketno='DEVSITE#6')"
   ]
  },
  {
   "cell_type": "code",
   "execution_count": 22,
   "id": "72dfc95e",
   "metadata": {
    "scrolled": false
   },
   "outputs": [
    {
     "data": {
      "text/plain": [
       "(datetime.datetime(2023, 8, 2, 10, 29, 31, tzinfo=<UTC>),\n",
       " datetime.datetime(2023, 8, 2, 10, 31, 32, tzinfo=<UTC>))"
      ]
     },
     "execution_count": 22,
     "metadata": {},
     "output_type": "execute_result"
    }
   ],
   "source": [
    "devtkt.cdtz, devtkt.mdtz"
   ]
  },
  {
   "cell_type": "code",
   "execution_count": 35,
   "id": "d885fb89",
   "metadata": {},
   "outputs": [
    {
     "ename": "AttributeError",
     "evalue": "'AsGeoJSON' object has no attribute 'json'",
     "output_type": "error",
     "traceback": [
      "\u001b[0;31m---------------------------------------------------------------------------\u001b[0m",
      "\u001b[0;31mAttributeError\u001b[0m                            Traceback (most recent call last)",
      "Input \u001b[0;32mIn [35]\u001b[0m, in \u001b[0;36m<cell line: 3>\u001b[0;34m()\u001b[0m\n\u001b[1;32m      1\u001b[0m \u001b[38;5;28;01mfrom\u001b[39;00m \u001b[38;5;21;01mdjango\u001b[39;00m\u001b[38;5;21;01m.\u001b[39;00m\u001b[38;5;21;01mcontrib\u001b[39;00m\u001b[38;5;21;01m.\u001b[39;00m\u001b[38;5;21;01mgis\u001b[39;00m\u001b[38;5;21;01m.\u001b[39;00m\u001b[38;5;21;01mdb\u001b[39;00m\u001b[38;5;21;01m.\u001b[39;00m\u001b[38;5;21;01mmodels\u001b[39;00m\u001b[38;5;21;01m.\u001b[39;00m\u001b[38;5;21;01mfunctions\u001b[39;00m \u001b[38;5;28;01mimport\u001b[39;00m  AsWKT, AsGeoJSON\n\u001b[1;32m      2\u001b[0m \u001b[38;5;28;01mimport\u001b[39;00m \u001b[38;5;21;01mjson\u001b[39;00m\n\u001b[0;32m----> 3\u001b[0m json\u001b[38;5;241m.\u001b[39mloads(\u001b[43mAsGeoJSON\u001b[49m\u001b[43m(\u001b[49m\u001b[43mPeopleEventlog\u001b[49m\u001b[38;5;241;43m.\u001b[39;49m\u001b[43mobjects\u001b[49m\u001b[38;5;241;43m.\u001b[39;49m\u001b[43mlast\u001b[49m\u001b[43m(\u001b[49m\u001b[43m)\u001b[49m\u001b[38;5;241;43m.\u001b[39;49m\u001b[43mstartlocation\u001b[49m\u001b[43m)\u001b[49m\u001b[38;5;241;43m.\u001b[39;49m\u001b[43mjson\u001b[49m())\n",
      "\u001b[0;31mAttributeError\u001b[0m: 'AsGeoJSON' object has no attribute 'json'"
     ]
    }
   ],
   "source": [
    "from django.contrib.gis.db.models.functions import  AsWKT, AsGeoJSON\n",
    "import json\n",
    "json.loads(AsGeoJSON(PeopleEventlog.objects.last().startlocation).json())"
   ]
  },
  {
   "cell_type": "code",
   "execution_count": 4,
   "id": "171adebe",
   "metadata": {},
   "outputs": [],
   "source": [
    "qset = PeopleEventlog.objects.filter(peventtype_id=103).order_by('-cdtz').values()"
   ]
  },
  {
   "cell_type": "code",
   "execution_count": 5,
   "id": "6902a257",
   "metadata": {},
   "outputs": [
    {
     "data": {
      "application/vnd.jupyter.widget-view+json": {
       "model_id": "a3ad40e0c839459d966ec11af515339f",
       "version_major": 2,
       "version_minor": 0
      },
      "text/plain": [
       "Output()"
      ]
     },
     "metadata": {},
     "output_type": "display_data"
    }
   ],
   "source": [
    "dq(qset)"
   ]
  },
  {
   "cell_type": "code",
   "execution_count": 28,
   "id": "76a71afa",
   "metadata": {},
   "outputs": [
    {
     "ename": "TypeError",
     "evalue": "'int' object is not iterable",
     "output_type": "error",
     "traceback": [
      "\u001b[0;31m---------------------------------------------------------------------------\u001b[0m",
      "\u001b[0;31mTypeError\u001b[0m                                 Traceback (most recent call last)",
      "Input \u001b[0;32mIn [28]\u001b[0m, in \u001b[0;36m<cell line: 2>\u001b[0;34m()\u001b[0m\n\u001b[1;32m      1\u001b[0m q \u001b[38;5;241m=\u001b[39m TypeAssist\u001b[38;5;241m.\u001b[39mobjects\u001b[38;5;241m.\u001b[39mfilter(tatype__tacode\u001b[38;5;241m=\u001b[39m\u001b[38;5;124m'\u001b[39m\u001b[38;5;124mSITECRISIS\u001b[39m\u001b[38;5;124m'\u001b[39m)\u001b[38;5;241m.\u001b[39mupdate(cuser_id\u001b[38;5;241m=\u001b[39m\u001b[38;5;241m1\u001b[39m, muser_id\u001b[38;5;241m=\u001b[39m\u001b[38;5;241m1\u001b[39m, client_id\u001b[38;5;241m=\u001b[39m\u001b[38;5;241m1\u001b[39m, bu_id\u001b[38;5;241m=\u001b[39m\u001b[38;5;241m1\u001b[39m)\n\u001b[0;32m----> 2\u001b[0m \u001b[43mdq\u001b[49m\u001b[43m(\u001b[49m\u001b[43mq\u001b[49m\u001b[43m)\u001b[49m\n",
      "Input \u001b[0;32mIn [3]\u001b[0m, in \u001b[0;36mdq\u001b[0;34m(queryset)\u001b[0m\n\u001b[1;32m      6\u001b[0m \u001b[38;5;28;01mdef\u001b[39;00m \u001b[38;5;21mdq\u001b[39m(queryset):\n\u001b[1;32m      7\u001b[0m     \u001b[38;5;28;01mif\u001b[39;00m \u001b[38;5;129;01mnot\u001b[39;00m queryset: \u001b[38;5;28;01mreturn\u001b[39;00m \u001b[38;5;28;01mNone\u001b[39;00m\n\u001b[0;32m----> 8\u001b[0m     \u001b[38;5;28;01mif\u001b[39;00m queryset \u001b[38;5;241m:=\u001b[39m \u001b[38;5;28;43mlist\u001b[39;49m\u001b[43m(\u001b[49m\u001b[43mqueryset\u001b[49m\u001b[43m)\u001b[49m:\n\u001b[1;32m     10\u001b[0m         \u001b[38;5;28;01mif\u001b[39;00m \u001b[38;5;28misinstance\u001b[39m(queryset, (\u001b[38;5;28mlist\u001b[39m, \u001b[38;5;28mtuple\u001b[39m)):\n\u001b[1;32m     11\u001b[0m             \u001b[38;5;66;03m# Handle values_list() queryset\u001b[39;00m\n\u001b[1;32m     12\u001b[0m             df \u001b[38;5;241m=\u001b[39m pd\u001b[38;5;241m.\u001b[39mDataFrame(queryset)\n",
      "\u001b[0;31mTypeError\u001b[0m: 'int' object is not iterable"
     ]
    }
   ],
   "source": [
    "q = TypeAssist.objects.filter(tatype__tacode='SITECRISIS')\n",
    "dq(q)"
   ]
  },
  {
   "cell_type": "code",
   "execution_count": 37,
   "id": "557380ed",
   "metadata": {},
   "outputs": [
    {
     "data": {
      "application/vnd.jupyter.widget-view+json": {
       "model_id": "cbe7cb6b1ee946baa8e19b9db0c6f69a",
       "version_major": 2,
       "version_minor": 0
      },
      "text/plain": [
       "Output()"
      ]
     },
     "metadata": {},
     "output_type": "display_data"
    }
   ],
   "source": [
    "q = TypeAssist.objects.filter(tatype__tacode='TICKETCATEGORY', tacode='SITECRISIS').values()\n",
    "dq(q)"
   ]
  },
  {
   "cell_type": "code",
   "execution_count": 38,
   "id": "b099902d",
   "metadata": {},
   "outputs": [
    {
     "data": {
      "application/vnd.jupyter.widget-view+json": {
       "model_id": "e19f619428f24aa2985c6f5f3239126b",
       "version_major": 2,
       "version_minor": 0
      },
      "text/plain": [
       "Output()"
      ]
     },
     "metadata": {},
     "output_type": "display_data"
    }
   ],
   "source": [
    "q = EscalationMatrix.objects.filter(escalationtemplate__tatype__tacode='TICKETCATEGORY').values()\n",
    "dq(q)"
   ]
  },
  {
   "cell_type": "code",
   "execution_count": 3,
   "id": "452e4aae",
   "metadata": {},
   "outputs": [],
   "source": [
    "from django_email_verification import send_email"
   ]
  },
  {
   "cell_type": "code",
   "execution_count": 6,
   "id": "095a2772",
   "metadata": {},
   "outputs": [],
   "source": [
    "p = People.objects.get(loginid=\"newuser\")"
   ]
  },
  {
   "cell_type": "code",
   "execution_count": 7,
   "id": "ee027a31",
   "metadata": {},
   "outputs": [
    {
     "name": "stdout",
     "output_type": "stream",
     "text": [
      " 2023-08-10 05:25:36,670  WARNING     from method: ModelSchemaField                  << <class 'django.contrib.gis.db.models.fields.PointField'> is currently unhandled, defaulting to str. >>\n"
     ]
    }
   ],
   "source": [
    "send_email(p)"
   ]
  },
  {
   "cell_type": "code",
   "execution_count": null,
   "id": "221a44b6",
   "metadata": {},
   "outputs": [],
   "source": []
  }
 ],
 "metadata": {
  "kernelspec": {
   "display_name": "Django Shell-Plus",
   "language": "python",
   "name": "django_extensions"
  },
  "language_info": {
   "codemirror_mode": {
    "name": "ipython",
    "version": 3
   },
   "file_extension": ".py",
   "mimetype": "text/x-python",
   "name": "python",
   "nbconvert_exporter": "python",
   "pygments_lexer": "ipython3",
   "version": "3.10.12"
  }
 },
 "nbformat": 4,
 "nbformat_minor": 5
}
