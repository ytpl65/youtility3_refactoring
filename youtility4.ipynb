{
 "cells": [
  {
   "cell_type": "code",
   "execution_count": 3,
   "id": "205cef31",
   "metadata": {},
   "outputs": [],
   "source": [
    "from apps.peoples import models as pm\n",
    "from apps.activity import models as am\n",
    "from apps.onboarding import models as om\n",
    "from apps.y_helpdesk import models as hm\n",
    "from apps.attendance import models as atm\n",
    "from django.db.models.functions import Concat\n",
    "from django.db.models import F, Value\n",
    "\n"
   ]
  }
 ],
 "metadata": {
  "kernelspec": {
   "display_name": "Django Shell-Plus",
   "language": "python",
   "name": "django_extensions"
  },
  "language_info": {
   "codemirror_mode": {
    "name": "ipython",
    "version": 3
   },
   "file_extension": ".py",
   "mimetype": "text/x-python",
   "name": "python",
   "nbconvert_exporter": "python",
   "pygments_lexer": "ipython3",
   "version": "3.10.6"
  }
 },
 "nbformat": 4,
 "nbformat_minor": 5
}
