{
 "cells": [
  {
   "cell_type": "code",
   "execution_count": 1,
   "id": "ffcf8513",
   "metadata": {},
   "outputs": [],
   "source": [
    "import os, sys\n",
    "os.environ.setdefault(\"DJANGO_SETTINGS_MODULE\", \"intelliwiz_config,settings.py\")\n",
    "os.environ[\"DJANGO_ALLOW_ASYNC_UNSAFE\"] = \"true\"\n",
    "import django\n",
    "django.setup()"
   ]
  },
  {
   "cell_type": "code",
   "execution_count": 2,
   "id": "190d89d0",
   "metadata": {},
   "outputs": [],
   "source": [
    "# Model imports\n",
    "from apps.activity.models import Asset, Attachment, Device, DeviceEventlog, Event, Job, Jobneed, JobneedDetails, Location, Question, QuestionSet, QuestionSetBelonging, WorkPermit\n",
    "from apps.attendance.models import PeopleEventlog, TestGeo, Tracking\n",
    "from apps.onboarding.models import Bt, Contract, ContractDetail, GeofenceMaster, Shift, SitePeople, TypeAssist, WizardDraft\n",
    "from apps.peoples.models import Capability, People, PermissionGroup, Pgbelonging, Pgroup\n",
    "from apps.reminder.models import Reminder\n",
    "from apps.tenants.models import Tenant\n",
    "from apps.y_helpdesk.models import EscalationMatrix, Ticket\n",
    "\n",
    "# Shell Plus Django Imports\n",
    "from django.db import transaction\n",
    "from django.db.models import Avg, Case, Count, F, Max, Min, Prefetch, Q, Sum, When\n",
    "from django.utils import timezone\n",
    "from django.urls import reverse\n",
    "from django.db.models import Exists, OuterRef, Subquery"
   ]
  },
  {
   "cell_type": "code",
   "execution_count": 3,
   "id": "af2132f0",
   "metadata": {},
   "outputs": [],
   "source": [
    "from apps.work_order_management import utils"
   ]
  },
  {
   "cell_type": "code",
   "execution_count": 4,
   "id": "d955dc34",
   "metadata": {},
   "outputs": [
    {
     "name": "stdout",
     "output_type": "stream",
     "text": [
      " 2023-03-24 02:40:49,055  WARNING     from method: ModelSchemaField                  << <class 'django.contrib.gis.db.models.fields.PointField'> is currently unhandled, defaulting to str. >>\n"
     ]
    },
    {
     "data": {
      "text/plain": [
       "'/onboarding/typeassist/'"
      ]
     },
     "execution_count": 4,
     "metadata": {},
     "output_type": "execute_result"
    }
   ],
   "source": [
    "from django.urls import reverse\n",
    "reverse('onboarding:typeassist')"
   ]
  },
  {
   "cell_type": "code",
   "execution_count": 7,
   "id": "e162c356",
   "metadata": {},
   "outputs": [
    {
     "data": {
      "text/plain": [
       "'https://redmine.youtility.in/'"
      ]
     },
     "execution_count": 7,
     "metadata": {},
     "output_type": "execute_result"
    }
   ],
   "source": [
    "from django.conf import settings\n",
    "settings.HOST"
   ]
  },
  {
   "cell_type": "code",
   "execution_count": 5,
   "id": "864a7a38",
   "metadata": {},
   "outputs": [
    {
     "data": {
      "text/plain": [
       "0"
      ]
     },
     "execution_count": 5,
     "metadata": {},
     "output_type": "execute_result"
    }
   ],
   "source": [
    "Asset.objects.filter(runningstatus = 'WORKING', bu_id = 7, identifier = 'ASSET', client_id=6).values('id').order_by('assetcode').distinct('assetcode').count()"
   ]
  },
  {
   "cell_type": "code",
   "execution_count": null,
   "id": "c0193418",
   "metadata": {},
   "outputs": [],
   "source": []
  }
 ],
 "metadata": {
  "kernelspec": {
   "display_name": "Django Shell-Plus",
   "language": "python",
   "name": "django_extensions"
  },
  "language_info": {
   "codemirror_mode": {
    "name": "ipython",
    "version": 3
   },
   "file_extension": ".py",
   "mimetype": "text/x-python",
   "name": "python",
   "nbconvert_exporter": "python",
   "pygments_lexer": "ipython3",
   "version": "3.10.6"
  }
 },
 "nbformat": 4,
 "nbformat_minor": 5
}
