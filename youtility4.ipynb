{
 "cells": [
  {
   "cell_type": "code",
   "execution_count": 2,
   "id": "ffcf8513",
   "metadata": {},
   "outputs": [],
   "source": [
    "import os, sys\n",
    "os.environ.setdefault(\"DJANGO_SETTINGS_MODULE\", \"intelliwiz_config,settings.py\")\n",
    "os.environ[\"DJANGO_ALLOW_ASYNC_UNSAFE\"] = \"true\"\n",
    "import django\n",
    "django.setup()"
   ]
  },
  {
   "cell_type": "code",
   "execution_count": 3,
   "id": "190d89d0",
   "metadata": {},
   "outputs": [],
   "source": [
    "# Model imports\n",
    "from apps.activity.models import Asset, Attachment, Device, DeviceEventlog, Event, Job, Jobneed, JobneedDetails, Location, Question, QuestionSet, QuestionSetBelonging, WorkPermit\n",
    "from apps.attendance.models import PeopleEventlog, TestGeo, Tracking\n",
    "from apps.onboarding.models import Bt, Contract, ContractDetail, GeofenceMaster, Shift, SitePeople, TypeAssist, WizardDraft\n",
    "from apps.peoples.models import Capability, People, PermissionGroup, Pgbelonging, Pgroup\n",
    "from apps.reminder.models import Reminder\n",
    "from apps.tenants.models import Tenant\n",
    "from apps.y_helpdesk.models import EscalationMatrix, Ticket\n",
    "\n",
    "# Shell Plus Django Imports\n",
    "from django.db import transaction\n",
    "from django.db.models import Avg, Case, Count, F, Max, Min, Prefetch, Q, Sum, When\n",
    "from django.utils import timezone\n",
    "from django.urls import reverse\n",
    "from django.db.models import Exists, OuterRef, Subquery"
   ]
  },
  {
   "cell_type": "code",
   "execution_count": 8,
   "id": "af2132f0",
   "metadata": {},
   "outputs": [],
   "source": [
    "from apps.work_order_management import utils"
   ]
  },
  {
   "cell_type": "code",
   "execution_count": 4,
   "id": "d955dc34",
   "metadata": {},
   "outputs": [
    {
     "name": "stdout",
     "output_type": "stream",
     "text": [
      " 2023-03-24 02:40:49,055  WARNING     from method: ModelSchemaField                  << <class 'django.contrib.gis.db.models.fields.PointField'> is currently unhandled, defaulting to str. >>\n"
     ]
    },
    {
     "data": {
      "text/plain": [
       "'/onboarding/typeassist/'"
      ]
     },
     "execution_count": 4,
     "metadata": {},
     "output_type": "execute_result"
    }
   ],
   "source": [
    "from django.urls import reverse\n",
    "reverse('onboarding:typeassist')"
   ]
  },
  {
   "cell_type": "code",
   "execution_count": 7,
   "id": "e162c356",
   "metadata": {},
   "outputs": [
    {
     "data": {
      "text/plain": [
       "'https://redmine.youtility.in/'"
      ]
     },
     "execution_count": 7,
     "metadata": {},
     "output_type": "execute_result"
    }
   ],
   "source": [
    "from django.conf import settings\n",
    "settings.HOST"
   ]
  },
  {
   "cell_type": "code",
   "execution_count": 5,
   "id": "864a7a38",
   "metadata": {},
   "outputs": [
    {
     "data": {
      "text/plain": [
       "0"
      ]
     },
     "execution_count": 5,
     "metadata": {},
     "output_type": "execute_result"
    }
   ],
   "source": [
    "Asset.objects.filter(runningstatus = 'WORKING', bu_id = 7, identifier = 'ASSET', client_id=6).values('id').order_by('assetcode').distinct('assetcode').count()"
   ]
  },
  {
   "cell_type": "code",
   "execution_count": 4,
   "id": "c0193418",
   "metadata": {},
   "outputs": [],
   "source": [
    "qset = Ticket.objects.select_related().filter(\n",
    "client_id = 6,\n",
    "bu_id = 7\n",
    ").order_by('-priority')"
   ]
  },
  {
   "cell_type": "code",
   "execution_count": 5,
   "id": "da642f12",
   "metadata": {
    "scrolled": true
   },
   "outputs": [
    {
     "data": {
      "text/plain": [
       "'SELECT \"ticket\".\"tenant_id\", \"ticket\".\"cuser_id\", \"ticket\".\"muser_id\", \"ticket\".\"cdtz\", \"ticket\".\"mdtz\", \"ticket\".\"ctzoffset\", \"ticket\".\"uuid\", \"ticket\".\"id\", \"ticket\".\"ticketdesc\", \"ticket\".\"assignedtopeople_id\", \"ticket\".\"assignedtogroup_id\", \"ticket\".\"comments\", \"ticket\".\"bu_id\", \"ticket\".\"client_id\", \"ticket\".\"priority\", \"ticket\".\"ticketcategory_id\", \"ticket\".\"location_id\", \"ticket\".\"asset_id\", \"ticket\".\"modifieddatetime\", \"ticket\".\"level\", \"ticket\".\"status\", \"ticket\".\"performedby_id\", \"ticket\".\"ticketlog\", \"ticket\".\"events\", \"ticket\".\"isescalated\", \"ticket\".\"ticketsource\", \"ticket\".\"attachmentcount\" FROM \"ticket\" WHERE (\"ticket\".\"bu_id\" = 7 AND \"ticket\".\"client_id\" = 6) ORDER BY \"ticket\".\"priority\" DESC'"
      ]
     },
     "execution_count": 5,
     "metadata": {},
     "output_type": "execute_result"
    }
   ],
   "source": [
    "str(qset.query)"
   ]
  },
  {
   "cell_type": "code",
   "execution_count": 13,
   "id": "fa51c1d6",
   "metadata": {},
   "outputs": [
    {
     "ename": "NameError",
     "evalue": "name '__file__' is not defined",
     "output_type": "error",
     "traceback": [
      "\u001b[0;31m---------------------------------------------------------------------------\u001b[0m",
      "\u001b[0;31mNameError\u001b[0m                                 Traceback (most recent call last)",
      "Input \u001b[0;32mIn [13]\u001b[0m, in \u001b[0;36m<cell line: 2>\u001b[0;34m()\u001b[0m\n\u001b[1;32m      1\u001b[0m \u001b[38;5;28;01mimport\u001b[39;00m \u001b[38;5;21;01mos\u001b[39;00m\n\u001b[0;32m----> 2\u001b[0m os\u001b[38;5;241m.\u001b[39mpath\u001b[38;5;241m.\u001b[39mabspath(\u001b[38;5;18;43m__file__\u001b[39;49m)\n",
      "\u001b[0;31mNameError\u001b[0m: name '__file__' is not defined"
     ]
    }
   ],
   "source": [
    "import os\n",
    "os.path.abspath(__file__)"
   ]
  },
  {
   "cell_type": "code",
   "execution_count": 16,
   "id": "84e4f1fc",
   "metadata": {},
   "outputs": [
    {
     "data": {
      "text/plain": [
       "'/home/redmine/youtility4_icici/apps/reports/jasper_reports'"
      ]
     },
     "execution_count": 16,
     "metadata": {},
     "output_type": "execute_result"
    }
   ],
   "source": [
    "os.path.join(os.path.abspath('apps/reports/jasper_reports'))"
   ]
  },
  {
   "cell_type": "code",
   "execution_count": 20,
   "id": "9b645383",
   "metadata": {},
   "outputs": [
    {
     "data": {
      "text/plain": [
       "<QuerySet [('ELECTRICAL', 'Electrical')]>"
      ]
     },
     "execution_count": 20,
     "metadata": {},
     "output_type": "execute_result"
    }
   ],
   "source": [
    "TypeAssist.objects.filter((Q(client_id = 6) | Q(cuser__is_superuser = True)), tatype__tacode = 'WORKORDER_CATEGORY', enable=True).values_list('tacode', 'taname')"
   ]
  },
  {
   "cell_type": "code",
   "execution_count": 5,
   "id": "7a131a52",
   "metadata": {},
   "outputs": [],
   "source": [
    "from django.apps import apps"
   ]
  },
  {
   "cell_type": "code",
   "execution_count": 9,
   "id": "d4826005",
   "metadata": {},
   "outputs": [],
   "source": [
    "Ticket = apps.get_model('activity', 'Jobneed')"
   ]
  },
  {
   "cell_type": "code",
   "execution_count": 10,
   "id": "0077b718",
   "metadata": {},
   "outputs": [
    {
     "data": {
      "text/plain": [
       "<Jobneed: Jobneed object (1141)>"
      ]
     },
     "execution_count": 10,
     "metadata": {},
     "output_type": "execute_result"
    }
   ],
   "source": [
    "Ticket.objects.first()"
   ]
  },
  {
   "cell_type": "code",
   "execution_count": 16,
   "id": "1a32cd2c",
   "metadata": {},
   "outputs": [
    {
     "data": {
      "text/plain": [
       "apps.y_helpdesk.models.EscalationMatrix"
      ]
     },
     "execution_count": 16,
     "metadata": {},
     "output_type": "execute_result"
    }
   ],
   "source": [
    "apps.get_model('y_helpdesk', 'EscalationMatrix')"
   ]
  },
  {
   "cell_type": "code",
   "execution_count": null,
   "id": "59cd2cb7",
   "metadata": {},
   "outputs": [],
   "source": []
  }
 ],
 "metadata": {
  "kernelspec": {
   "display_name": "Django Shell-Plus",
   "language": "python",
   "name": "django_extensions"
  },
  "language_info": {
   "codemirror_mode": {
    "name": "ipython",
    "version": 3
   },
   "file_extension": ".py",
   "mimetype": "text/x-python",
   "name": "python",
   "nbconvert_exporter": "python",
   "pygments_lexer": "ipython3",
   "version": "3.10.6"
  }
 },
 "nbformat": 4,
 "nbformat_minor": 5
}
