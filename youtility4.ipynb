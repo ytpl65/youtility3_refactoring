{
 "cells": [
  {
   "cell_type": "code",
   "execution_count": 1,
   "id": "ffcf8513",
   "metadata": {},
   "outputs": [],
   "source": [
    "import os, sys\n",
    "os.environ.setdefault(\"DJANGO_SETTINGS_MODULE\", \"intelliwiz_config,settings.py\")\n",
    "os.environ[\"DJANGO_ALLOW_ASYNC_UNSAFE\"] = \"true\"\n",
    "import django\n",
    "django.setup()"
   ]
  },
  {
   "cell_type": "code",
   "execution_count": 2,
   "id": "190d89d0",
   "metadata": {},
   "outputs": [],
   "source": [
    "# Model imports\n",
    "from apps.activity.models import Asset, Attachment, Device, DeviceEventlog, Event, Job, Jobneed, JobneedDetails, Location, Question, QuestionSet, QuestionSetBelonging, WorkPermit\n",
    "from apps.attendance.models import PeopleEventlog, TestGeo, Tracking\n",
    "from apps.onboarding.models import Bt, Contract, ContractDetail, GeofenceMaster, Shift, SitePeople, TypeAssist, WizardDraft\n",
    "from apps.peoples.models import Capability, People, PermissionGroup, Pgbelonging, Pgroup\n",
    "from apps.reminder.models import Reminder\n",
    "from apps.tenants.models import Tenant\n",
    "from apps.y_helpdesk.models import EscalationMatrix, Ticket\n",
    "\n",
    "# Shell Plus Django Imports\n",
    "from django.db import transaction\n",
    "from django.db.models import Avg, Case, Count, F, Max, Min, Prefetch, Q, Sum, When\n",
    "from django.utils import timezone\n",
    "from django.urls import reverse\n",
    "from django.db.models import Exists, OuterRef, Subquery"
   ]
  },
  {
   "cell_type": "code",
   "execution_count": 3,
   "id": "5e61f799",
   "metadata": {},
   "outputs": [],
   "source": [
    "import secrets"
   ]
  },
  {
   "cell_type": "code",
   "execution_count": 9,
   "id": "86404b38",
   "metadata": {},
   "outputs": [
    {
     "data": {
      "text/plain": [
       "'yfE733AO4ELltVzUVx6bxQ'"
      ]
     },
     "execution_count": 9,
     "metadata": {},
     "output_type": "execute_result"
    }
   ],
   "source": [
    "secrets.token_urlsafe(16)"
   ]
  },
  {
   "cell_type": "code",
   "execution_count": 11,
   "id": "8bfc2d97",
   "metadata": {},
   "outputs": [
    {
     "ename": "AttributeError",
     "evalue": "module 'django.http.request' has no attribute 'build_absolute_url'",
     "output_type": "error",
     "traceback": [
      "\u001b[0;31m---------------------------------------------------------------------------\u001b[0m",
      "\u001b[0;31mAttributeError\u001b[0m                            Traceback (most recent call last)",
      "Input \u001b[0;32mIn [11]\u001b[0m, in \u001b[0;36m<cell line: 2>\u001b[0;34m()\u001b[0m\n\u001b[1;32m      1\u001b[0m \u001b[38;5;28;01mfrom\u001b[39;00m \u001b[38;5;21;01mdjango\u001b[39;00m\u001b[38;5;21;01m.\u001b[39;00m\u001b[38;5;21;01mhttp\u001b[39;00m \u001b[38;5;28;01mimport\u001b[39;00m request\n\u001b[0;32m----> 2\u001b[0m \u001b[43mrequest\u001b[49m\u001b[38;5;241;43m.\u001b[39;49m\u001b[43mbuild_absolute_url\u001b[49m()\n",
      "\u001b[0;31mAttributeError\u001b[0m: module 'django.http.request' has no attribute 'build_absolute_url'"
     ]
    }
   ],
   "source": [
    "from django.http import request\n",
    "request.build_absolute_url()"
   ]
  },
  {
   "cell_type": "code",
   "execution_count": 4,
   "id": "af2132f0",
   "metadata": {},
   "outputs": [],
   "source": [
    "from apps.work_order_management import utils"
   ]
  },
  {
   "cell_type": "code",
   "execution_count": 5,
   "id": "d0475c1e",
   "metadata": {},
   "outputs": [
    {
     "name": "stdout",
     "output_type": "stream",
     "text": [
      " 2023-03-22 11:01:28,706  INFO        from method: notify_wo_creation                << Email Addresses of recipents are emails=['vaishvika.pawar@youtility.in', 'naveensargam123@gmail.com'] >>\n",
      " 2023-03-22 11:01:28,733  INFO        from method: send_email                        << email sending process started >>\n",
      " 2023-03-22 11:01:28,734  INFO        from method: send_email                        << subject of email is New work order #9 from Client For Developer >>\n",
      " 2023-03-22 11:01:28,736  INFO        from method: send_email                        << recipents of email are  ['vaishvika.pawar@youtility.in', 'naveensargam123@gmail.com'] >>\n",
      " 2023-03-22 11:01:32,890  INFO        from method: send_email                        << email successfully sent >>\n"
     ]
    }
   ],
   "source": [
    "utils.notify_wo_creation(9)"
   ]
  },
  {
   "cell_type": "code",
   "execution_count": null,
   "id": "d955dc34",
   "metadata": {},
   "outputs": [],
   "source": []
  }
 ],
 "metadata": {
  "kernelspec": {
   "display_name": "Django Shell-Plus",
   "language": "python",
   "name": "django_extensions"
  },
  "language_info": {
   "codemirror_mode": {
    "name": "ipython",
    "version": 3
   },
   "file_extension": ".py",
   "mimetype": "text/x-python",
   "name": "python",
   "nbconvert_exporter": "python",
   "pygments_lexer": "ipython3",
   "version": "3.10.6"
  }
 },
 "nbformat": 4,
 "nbformat_minor": 5
}
