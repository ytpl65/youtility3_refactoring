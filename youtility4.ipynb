{
 "cells": [
  {
   "cell_type": "code",
   "execution_count": 2,
   "id": "ffcf8513",
   "metadata": {},
   "outputs": [],
   "source": [
    "#django env setup\n",
    "import os, sys\n",
    "os.environ.setdefault(\"DJANGO_SETTINGS_MODULE\", \"intelliwiz_config,settings.py\")\n",
    "os.environ[\"DJANGO_ALLOW_ASYNC_UNSAFE\"] = \"true\"\n",
    "import django\n",
    "django.setup()"
   ]
  },
  {
   "cell_type": "code",
   "execution_count": 3,
   "id": "190d89d0",
   "metadata": {},
   "outputs": [],
   "source": [
    "# Model imports\n",
    "from apps.activity.models import Asset, Attachment, Device, DeviceEventlog, Event, Job, Jobneed, JobneedDetails, Location, Question, QuestionSet, QuestionSetBelonging, WorkPermit\n",
    "from apps.attendance.models import PeopleEventlog, TestGeo, Tracking\n",
    "from apps.onboarding.models import Bt, Contract, ContractDetail, GeofenceMaster, Shift, SitePeople, TypeAssist, WizardDraft\n",
    "from apps.peoples.models import Capability, People, PermissionGroup, Pgbelonging, Pgroup\n",
    "from apps.reminder.models import Reminder\n",
    "from apps.tenants.models import Tenant\n",
    "from apps.y_helpdesk.models import EscalationMatrix, Ticket\n",
    "from apps.core import utils\n",
    "import pandas as pd\n",
    "\n",
    "# Shell Plus Django Imports\n",
    "from django.db import transaction\n",
    "from django.db.models import Avg, Case, Count, F, Max, Min, Prefetch, Q, Sum, When, ExpressionWrapper, Value as V\n",
    "from django.db.models.functions import Concat\n",
    "from django.utils import timezone\n",
    "from django.urls import reverse\n",
    "from django.db.models import Exists, OuterRef, Subquery, FloatField, CharField\n",
    "from datetime import datetime, timedelta"
   ]
  },
  {
   "cell_type": "code",
   "execution_count": 4,
   "id": "a4e1b685",
   "metadata": {},
   "outputs": [],
   "source": [
    "import pandas as pd\n",
    "from IPython.display import display, clear_output\n",
    "import ipywidgets as widgets\n",
    "from IPython.display import display as ipy_display\n",
    "\n",
    "def dq(queryset):\n",
    "    if not queryset: return None\n",
    "    if queryset := list(queryset):\n",
    "    \n",
    "        if isinstance(queryset, (list, tuple)):\n",
    "            # Handle values_list() queryset\n",
    "            df = pd.DataFrame(queryset)\n",
    "        elif isinstance(queryset, dict):\n",
    "            # Handle values() queryset\n",
    "            df = pd.DataFrame.from_records([queryset])\n",
    "        else:\n",
    "            # Handle regular queryset\n",
    "            data = list(queryset.values())\n",
    "            df = pd.DataFrame(data)\n",
    "\n",
    "        # Set pandas display options to show all rows and columns\n",
    "        pd.set_option('display.max_rows', None)\n",
    "        pd.set_option('display.max_columns', None)\n",
    "        pd.set_option('display.width', None)\n",
    "\n",
    "        # Get the specified column names\n",
    "        columns = list(queryset[0].keys())\n",
    "\n",
    "        # Filter the DataFrame based on the specified columns\n",
    "        df_filtered = df[columns]\n",
    "\n",
    "        # Create a scrollable output widget\n",
    "        output_widget = widgets.Output()\n",
    "\n",
    "        # Display the DataFrame inside the output widget\n",
    "        with output_widget:\n",
    "            clear_output()\n",
    "            display(df_filtered)\n",
    "\n",
    "        # Display the output widget\n",
    "        ipy_display(output_widget)\n",
    "    else:\n",
    "        print(\"Empty Queryset\")"
   ]
  },
  {
   "cell_type": "code",
   "execution_count": 5,
   "id": "e65013d3",
   "metadata": {},
   "outputs": [],
   "source": [
    "different_jobstatus = Jobneed.objects.distinct('jobstatus').filter(identifier = 'TASK').order_by('jobstatus').values_list('jobstatus', flat=True)"
   ]
  },
  {
   "cell_type": "code",
   "execution_count": 15,
   "id": "67c1bd34",
   "metadata": {},
   "outputs": [
    {
     "data": {
      "text/plain": [
       "<QuerySet ['ASSIGNED', 'AUTOCLOSED', 'COMPLETED']>"
      ]
     },
     "execution_count": 15,
     "metadata": {},
     "output_type": "execute_result"
    }
   ],
   "source": [
    "different_jobstatus"
   ]
  },
  {
   "cell_type": "code",
   "execution_count": 24,
   "id": "690a44ba",
   "metadata": {},
   "outputs": [
    {
     "data": {
      "text/plain": [
       "{'ASSIGNED': 55, 'AUTOCLOSED': 586, 'COMPLETED': 9}"
      ]
     },
     "execution_count": 24,
     "metadata": {},
     "output_type": "execute_result"
    }
   ],
   "source": [
    "d = {}\n",
    "for status in different_jobstatus:\n",
    "    d[status] = Jobneed.objects.filter(\n",
    "        plandatetime__date__gte = '2023-05-28',\n",
    "        plandatetime__date__lte = '2023-07-08',\n",
    "        identifier = 'TASK',\n",
    "        jobstatus=status\n",
    "    ).count()\n",
    "d"
   ]
  },
  {
   "cell_type": "code",
   "execution_count": 27,
   "id": "562af8d9",
   "metadata": {},
   "outputs": [
    {
     "name": "stderr",
     "output_type": "stream",
     "text": [
      "/home/redmine/envs/youtility4/lib/python3.10/site-packages/django/db/models/fields/__init__.py:1416: RuntimeWarning: DateTimeField Jobneed.plandatetime received a naive datetime (2023-05-28 00:00:00) while time zone support is active.\n",
      "  warnings.warn(\"DateTimeField %s received a naive datetime (%s)\"\n",
      "/home/redmine/envs/youtility4/lib/python3.10/site-packages/django/db/models/fields/__init__.py:1416: RuntimeWarning: DateTimeField Jobneed.plandatetime received a naive datetime (2023-07-08 00:00:00) while time zone support is active.\n",
      "  warnings.warn(\"DateTimeField %s received a naive datetime (%s)\"\n"
     ]
    },
    {
     "name": "stdout",
     "output_type": "stream",
     "text": [
      "{'ASSIGNED': 55, 'AUTOCLOSED': 586, 'COMPLETED': 9}\n"
     ]
    }
   ],
   "source": [
    "import datetime\n",
    "from django.db.models import Q\n",
    "\n",
    "d = {}\n",
    "\n",
    "# assuming different_jobstatus is a list of different job statuses\n",
    "for status in different_jobstatus:\n",
    "    d[status] = Jobneed.objects.filter(\n",
    "        Q(plandatetime__gte=datetime.datetime(2023, 5, 28)) &\n",
    "        Q(plandatetime__lte=datetime.datetime(2023, 7, 8)) &\n",
    "        Q(identifier='TASK') &\n",
    "        Q(jobstatus=status)\n",
    "    ).count()\n",
    "\n",
    "print(d)\n"
   ]
  },
  {
   "cell_type": "code",
   "execution_count": 39,
   "id": "b45dfc99",
   "metadata": {},
   "outputs": [
    {
     "data": {
      "application/vnd.jupyter.widget-view+json": {
       "model_id": "541e2ba20a3445dfa094cb97791b1c39",
       "version_major": 2,
       "version_minor": 0
      },
      "text/plain": [
       "Output()"
      ]
     },
     "metadata": {},
     "output_type": "display_data"
    }
   ],
   "source": [
    "from django.db.models import Count\n",
    "from collections import defaultdict\n",
    "\n",
    "# Ensure different_jobstatus is a list if it's not already\n",
    "different_jobstatus = list(different_jobstatus)\n",
    "\n",
    "data = (Jobneed.objects\n",
    "            .filter(plandatetime__date__range=('2023-05-28', '2023-07-08'),\n",
    "                    identifier='TASK',\n",
    "                    jobstatus__in=different_jobstatus)\n",
    "            .values('plandatetime__date', 'jobstatus')\n",
    "            .annotate(count=Count('id')))\n",
    "\n",
    "result = defaultdict(dict)\n",
    "for item in data:\n",
    "    date = item['plandatetime__date']\n",
    "    result[date][item['jobstatus']] = item['count']\n",
    "\n",
    "# Converts defaultdict back to dict for final result\n",
    "result = dict(result)\n",
    "dq([result])"
   ]
  },
  {
   "cell_type": "code",
   "execution_count": 42,
   "id": "da03f9ed",
   "metadata": {},
   "outputs": [],
   "source": [
    "from django.db.models import Count\n",
    "from collections import defaultdict\n",
    "from django.utils.dateparse import parse_date\n",
    "\n",
    "def get_job_status_counts():\n",
    "    different_jobstatus = Jobneed.objects.filter(identifier='TASK').values_list('jobstatus', flat=True).distinct()\n",
    "    data = (Jobneed.objects\n",
    "                .filter(plandatetime__date__range=(parse_date('2023-05-28'), parse_date('2023-07-08')),\n",
    "                        identifier='TASK',\n",
    "                        jobstatus__in=different_jobstatus)\n",
    "                .values('plandatetime__date', 'jobstatus')\n",
    "                .annotate(count=Count('id')))\n",
    "\n",
    "    result = defaultdict(lambda: {status: 0 for status in different_jobstatus})\n",
    "\n",
    "    for item in data:\n",
    "        date = item['plandatetime__date']\n",
    "        result[date][item['jobstatus']] = item['count']\n",
    "\n",
    "    return dict(result)\n"
   ]
  },
  {
   "cell_type": "code",
   "execution_count": 43,
   "id": "7bf4f63d",
   "metadata": {},
   "outputs": [
    {
     "data": {
      "text/plain": [
       "{datetime.date(2023, 5, 28): {'AUTOCLOSED': 1, 'COMPLETED': 0, 'ASSIGNED': 0},\n",
       " datetime.date(2023, 5, 29): {'AUTOCLOSED': 1, 'COMPLETED': 0, 'ASSIGNED': 0},\n",
       " datetime.date(2023, 5, 30): {'AUTOCLOSED': 1, 'COMPLETED': 0, 'ASSIGNED': 0},\n",
       " datetime.date(2023, 5, 31): {'AUTOCLOSED': 1, 'COMPLETED': 1, 'ASSIGNED': 0},\n",
       " datetime.date(2023, 6, 1): {'AUTOCLOSED': 1, 'COMPLETED': 0, 'ASSIGNED': 0},\n",
       " datetime.date(2023, 6, 2): {'AUTOCLOSED': 1, 'COMPLETED': 0, 'ASSIGNED': 0},\n",
       " datetime.date(2023, 6, 3): {'AUTOCLOSED': 1, 'COMPLETED': 1, 'ASSIGNED': 0},\n",
       " datetime.date(2023, 6, 5): {'AUTOCLOSED': 1, 'COMPLETED': 1, 'ASSIGNED': 0},\n",
       " datetime.date(2023, 6, 6): {'AUTOCLOSED': 1, 'COMPLETED': 1, 'ASSIGNED': 0},\n",
       " datetime.date(2023, 6, 7): {'AUTOCLOSED': 1, 'COMPLETED': 1, 'ASSIGNED': 0},\n",
       " datetime.date(2023, 6, 8): {'AUTOCLOSED': 1, 'COMPLETED': 0, 'ASSIGNED': 0},\n",
       " datetime.date(2023, 6, 9): {'AUTOCLOSED': 1, 'COMPLETED': 0, 'ASSIGNED': 1},\n",
       " datetime.date(2023, 6, 10): {'AUTOCLOSED': 0, 'COMPLETED': 0, 'ASSIGNED': 15}}"
      ]
     },
     "execution_count": 43,
     "metadata": {},
     "output_type": "execute_result"
    }
   ],
   "source": [
    "get_job_status_counts()"
   ]
  },
  {
   "cell_type": "code",
   "execution_count": 52,
   "id": "dd003d1b",
   "metadata": {},
   "outputs": [
    {
     "data": {
      "text/plain": [
       "<QuerySet [{'jobstatus': 'ASSIGNED'}, {'jobstatus': 'ASSIGNED'}, {'jobstatus': 'ASSIGNED'}, {'jobstatus': 'ASSIGNED'}, {'jobstatus': 'ASSIGNED'}, {'jobstatus': 'ASSIGNED'}, {'jobstatus': 'ASSIGNED'}, {'jobstatus': 'ASSIGNED'}, {'jobstatus': 'ASSIGNED'}, {'jobstatus': 'ASSIGNED'}, {'jobstatus': 'ASSIGNED'}, {'jobstatus': 'ASSIGNED'}, {'jobstatus': 'ASSIGNED'}, {'jobstatus': 'ASSIGNED'}, {'jobstatus': 'ASSIGNED'}, {'jobstatus': 'ASSIGNED'}, {'jobstatus': 'ASSIGNED'}, {'jobstatus': 'ASSIGNED'}, {'jobstatus': 'ASSIGNED'}, {'jobstatus': 'ASSIGNED'}, '...(remaining elements truncated)...']>"
      ]
     },
     "execution_count": 52,
     "metadata": {},
     "output_type": "execute_result"
    }
   ],
   "source": [
    "Jobneed.objects.filter(\n",
    "identifier ='TASK',\n",
    "plandatetime__date = parse_date('2023-06-10'),).values(\"jobstatus\")"
   ]
  },
  {
   "cell_type": "code",
   "execution_count": 13,
   "id": "64c4f80a",
   "metadata": {},
   "outputs": [
    {
     "data": {
      "text/plain": [
       "<QuerySet [{'geojson': {'endlocation': '', 'startlocation': '6XHP+G85, Dhokali, Thane West, Thane, Maharashtra 400607, India'}}, {'geojson': {'endlocation': '', 'startlocation': ''}}, {'geojson': {'endlocation': '', 'startlocation': ''}}, {'geojson': {'endlocation': '', 'startlocation': ''}}, {'geojson': {'endlocation': '', 'startlocation': ''}}, {'geojson': {'endlocation': '', 'startlocation': ''}}, {'geojson': {'endlocation': '', 'startlocation': ''}}, {'geojson': {'endlocation': '', 'startlocation': ''}}, {'geojson': {'endlocation': '', 'startlocation': ''}}, {'geojson': {'endlocation': '', 'startlocation': ''}}]>"
      ]
     },
     "execution_count": 13,
     "metadata": {},
     "output_type": "execute_result"
    }
   ],
   "source": [
    "PeopleEventlog.objects.values('geojson')[:10]"
   ]
  },
  {
   "cell_type": "code",
   "execution_count": 7,
   "id": "fb479df3",
   "metadata": {},
   "outputs": [
    {
     "data": {
      "text/plain": [
       "['DoesNotExist',\n",
       " 'LocationStatus',\n",
       " 'Meta',\n",
       " 'MultipleObjectsReturned',\n",
       " '__class__',\n",
       " '__delattr__',\n",
       " '__dict__',\n",
       " '__dir__',\n",
       " '__doc__',\n",
       " '__eq__',\n",
       " '__format__',\n",
       " '__ge__',\n",
       " '__getattribute__',\n",
       " '__getstate__',\n",
       " '__gt__',\n",
       " '__hash__',\n",
       " '__init__',\n",
       " '__init_subclass__',\n",
       " '__le__',\n",
       " '__lt__',\n",
       " '__module__',\n",
       " '__ne__',\n",
       " '__new__',\n",
       " '__reduce__',\n",
       " '__reduce_ex__',\n",
       " '__repr__',\n",
       " '__setattr__',\n",
       " '__setstate__',\n",
       " '__sizeof__',\n",
       " '__str__',\n",
       " '__subclasshook__',\n",
       " '__weakref__',\n",
       " '_check_column_name_clashes',\n",
       " '_check_constraints',\n",
       " '_check_default_pk',\n",
       " '_check_field_name_clashes',\n",
       " '_check_fields',\n",
       " '_check_id_field',\n",
       " '_check_index_together',\n",
       " '_check_indexes',\n",
       " '_check_local_fields',\n",
       " '_check_long_column_names',\n",
       " '_check_m2m_through_same_relationship',\n",
       " '_check_managers',\n",
       " '_check_model',\n",
       " '_check_model_name_db_lookup_clashes',\n",
       " '_check_ordering',\n",
       " '_check_property_name_related_field_accessor_clashes',\n",
       " '_check_single_primary_key',\n",
       " '_check_swappable',\n",
       " '_check_unique_together',\n",
       " '_do_insert',\n",
       " '_do_update',\n",
       " '_get_FIELD_display',\n",
       " '_get_expr_references',\n",
       " '_get_next_or_previous_by_FIELD',\n",
       " '_get_next_or_previous_in_order',\n",
       " '_get_pk_val',\n",
       " '_get_unique_checks',\n",
       " '_meta',\n",
       " '_perform_date_checks',\n",
       " '_perform_unique_checks',\n",
       " '_prepare_related_fields_for_save',\n",
       " '_save_parents',\n",
       " '_save_table',\n",
       " '_set_pk_val',\n",
       " '_state',\n",
       " 'asset_set',\n",
       " 'bu',\n",
       " 'bu_id',\n",
       " 'cdtz',\n",
       " 'check',\n",
       " 'clean',\n",
       " 'clean_fields',\n",
       " 'client',\n",
       " 'client_id',\n",
       " 'ctzoffset',\n",
       " 'cuser',\n",
       " 'cuser_id',\n",
       " 'date_error_message',\n",
       " 'delete',\n",
       " 'enable',\n",
       " 'from_db',\n",
       " 'full_clean',\n",
       " 'get_deferred_fields',\n",
       " 'get_locstatus_display',\n",
       " 'get_next_by_cdtz',\n",
       " 'get_next_by_mdtz',\n",
       " 'get_previous_by_cdtz',\n",
       " 'get_previous_by_mdtz',\n",
       " 'gpslocation',\n",
       " 'id',\n",
       " 'iscritical',\n",
       " 'location_set',\n",
       " 'loccode',\n",
       " 'locjson',\n",
       " 'locname',\n",
       " 'locstatus',\n",
       " 'mdtz',\n",
       " 'muser',\n",
       " 'muser_id',\n",
       " 'objects',\n",
       " 'parent',\n",
       " 'parent_id',\n",
       " 'people_set',\n",
       " 'pk',\n",
       " 'prepare_database_save',\n",
       " 'refresh_from_db',\n",
       " 'save',\n",
       " 'save_base',\n",
       " 'serializable_value',\n",
       " 'tenant',\n",
       " 'tenant_id',\n",
       " 'ticket_set',\n",
       " 'type',\n",
       " 'type_id',\n",
       " 'unique_error_message',\n",
       " 'uuid',\n",
       " 'validate_unique',\n",
       " 'wom_set']"
      ]
     },
     "execution_count": 7,
     "metadata": {},
     "output_type": "execute_result"
    }
   ],
   "source": [
    "dir(l)"
   ]
  },
  {
   "cell_type": "code",
   "execution_count": null,
   "id": "f5f74271",
   "metadata": {},
   "outputs": [],
   "source": [
    "l.asset_set.annotate"
   ]
  }
 ],
 "metadata": {
  "kernelspec": {
   "display_name": "Django Shell-Plus",
   "language": "python",
   "name": "django_extensions"
  },
  "language_info": {
   "codemirror_mode": {
    "name": "ipython",
    "version": 3
   },
   "file_extension": ".py",
   "mimetype": "text/x-python",
   "name": "python",
   "nbconvert_exporter": "python",
   "pygments_lexer": "ipython3",
   "version": "3.10.6"
  }
 },
 "nbformat": 4,
 "nbformat_minor": 5
}
