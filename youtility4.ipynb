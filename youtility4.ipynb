{
 "cells": [
  {
   "cell_type": "code",
   "execution_count": 1,
   "id": "ffcf8513",
   "metadata": {},
   "outputs": [],
   "source": [
    "#django env setup\n",
    "import os, sys\n",
    "os.environ.setdefault(\"DJANGO_SETTINGS_MODULE\", \"intelliwiz_config,settings.py\")\n",
    "os.environ[\"DJANGO_ALLOW_ASYNC_UNSAFE\"] = \"true\"\n",
    "import django\n",
    "django.setup()"
   ]
  },
  {
   "cell_type": "code",
   "execution_count": 2,
   "id": "190d89d0",
   "metadata": {},
   "outputs": [],
   "source": [
    "# Model imports\n",
    "from apps.activity.models import Asset,AssetLog, Attachment, Device, DeviceEventlog, Event, Job, Jobneed, JobneedDetails, Location, Question, QuestionSet, QuestionSetBelonging, WorkPermit\n",
    "from apps.attendance.models import PeopleEventlog, TestGeo, Tracking\n",
    "from apps.onboarding.models import Bt,  GeofenceMaster, Shift, TypeAssist\n",
    "from apps.peoples.models import Capability, People, PermissionGroup, Pgbelonging, Pgroup\n",
    "from apps.reminder.models import Reminder\n",
    "from apps.tenants.models import Tenant\n",
    "from apps.y_helpdesk.models import EscalationMatrix, Ticket\n",
    "from apps.core import utils\n",
    "import pandas as pd\n",
    "\n",
    "# Shell Plus Django Imports\n",
    "from django.db import transaction\n",
    "from django.db.models import Avg, Case, Count, F, Max, Min, Prefetch, Q, Sum, When, ExpressionWrapper, Value as V\n",
    "from django.db.models.functions import Concat, Cast\n",
    "from django.utils import timezone\n",
    "from django.urls import reverse\n",
    "from django.db.models import Exists, OuterRef, Subquery, FloatField, CharField, IntegerField\n",
    "from datetime import datetime, timedelta"
   ]
  },
  {
   "cell_type": "code",
   "execution_count": 3,
   "id": "a4e1b685",
   "metadata": {},
   "outputs": [],
   "source": [
    "import pandas as pd\n",
    "from IPython.display import display, clear_output\n",
    "import ipywidgets as widgets\n",
    "from IPython.display import display as ipy_display\n",
    "\n",
    "def dq(queryset):\n",
    "    if not queryset: return None\n",
    "    if queryset := list(queryset):\n",
    "    \n",
    "        if isinstance(queryset, (list, tuple)):\n",
    "            # Handle values_list() queryset\n",
    "            df = pd.DataFrame(queryset)\n",
    "        elif isinstance(queryset, dict):\n",
    "            # Handle values() queryset\n",
    "            df = pd.DataFrame.from_records([queryset])\n",
    "        else:\n",
    "            # Handle regular queryset\n",
    "            data = list(queryset.values())\n",
    "            df = pd.DataFrame(data)\n",
    "\n",
    "        # Set pandas display options to show all rows and columns\n",
    "        pd.set_option('display.max_rows', None)\n",
    "        pd.set_option('display.max_columns', None)\n",
    "        pd.set_option('display.width', None)\n",
    "\n",
    "        # Get the specified column names\n",
    "        columns = list(queryset[0].keys())\n",
    "\n",
    "        # Filter the DataFrame based on the specified columns\n",
    "        df_filtered = df[columns]\n",
    "\n",
    "        # Create a scrollable output widget\n",
    "        output_widget = widgets.Output()\n",
    "\n",
    "        # Display the DataFrame inside the output widget\n",
    "        with output_widget:\n",
    "            clear_output()\n",
    "            display(df_filtered)\n",
    "\n",
    "        # Display the output widget\n",
    "        ipy_display(output_widget)\n",
    "    else:\n",
    "        print(\"Empty Queryset\")"
   ]
  },
  {
   "cell_type": "code",
   "execution_count": 4,
   "id": "8a3fa72f",
   "metadata": {},
   "outputs": [
    {
     "data": {
      "text/plain": [
       "(37, {'onboarding.TypeAssist': 37})"
      ]
     },
     "execution_count": 4,
     "metadata": {},
     "output_type": "execute_result"
    }
   ],
   "source": []
  },
  {
   "cell_type": "code",
   "execution_count": 10,
   "id": "e88edfd6",
   "metadata": {},
   "outputs": [
    {
     "data": {
      "application/vnd.jupyter.widget-view+json": {
       "model_id": "5fd813d03bea4933b0abb79db4a42520",
       "version_major": 2,
       "version_minor": 0
      },
      "text/plain": [
       "Output()"
      ]
     },
     "metadata": {},
     "output_type": "display_data"
    }
   ],
   "source": [
    "qset = TypeAssist.objects.values().order_by('-id')\n",
    "dq(qset)"
   ]
  },
  {
   "cell_type": "code",
   "execution_count": 3,
   "id": "5235edde",
   "metadata": {},
   "outputs": [
    {
     "ename": "NameError",
     "evalue": "name 'l' is not defined",
     "output_type": "error",
     "traceback": [
      "\u001b[0;31m---------------------------------------------------------------------------\u001b[0m",
      "\u001b[0;31mNameError\u001b[0m                                 Traceback (most recent call last)",
      "Input \u001b[0;32mIn [3]\u001b[0m, in \u001b[0;36m<cell line: 1>\u001b[0;34m()\u001b[0m\n\u001b[0;32m----> 1\u001b[0m \u001b[43ml\u001b[49m\u001b[38;5;241m.\u001b[39masset_set\u001b[38;5;241m.\u001b[39mannotate\n",
      "\u001b[0;31mNameError\u001b[0m: name 'l' is not defined"
     ]
    }
   ],
   "source": [
    "l.asset_set.annotate"
   ]
  },
  {
   "cell_type": "code",
   "execution_count": null,
   "id": "7360cc40",
   "metadata": {},
   "outputs": [],
   "source": []
  },
  {
   "cell_type": "code",
   "execution_count": 4,
   "id": "e059bab3",
   "metadata": {},
   "outputs": [
    {
     "data": {
      "text/plain": [
       "<QuerySet [{'buname': 'Developer Site', 'bucode': 'DEVSITE', 'butype_id': None, 'enable': True, 'cdtz': datetime.datetime(2023, 6, 25, 20, 39, 14, tzinfo=<UTC>), 'mdtz': datetime.datetime(2023, 6, 25, 20, 39, 14, tzinfo=<UTC>), 'siteincharge_id': None, 'cuser_id': 2, 'muser_id': 2, 'skipsiteaudit': False, 'identifier_id': 24, 'bupreferences': {'tag': '', 'address': '', 'validip': '', 'maxadmins': 5, 'validimei': '', 'usereliver': False, 'controlroom': [], 'guardstrenth': 0, 'malestrength': 0, 'pvideolength': 10, 'siteopentime': '', 'siteclosetime': '', 'webcapability': [], 'femalestrength': 0, 'ispermitneeded': False, 'mobilecapability': [], 'reportcapability': [], 'portletcapability': [], 'permissibledistance': 0, 'reliveronpeoplecount': 0, 'nearbyemergencycontacts': []}, 'bu_id': 9}]>"
      ]
     },
     "execution_count": 4,
     "metadata": {},
     "output_type": "execute_result"
    }
   ],
   "source": [
    "Pgbelonging.objects.get_assigned_sites_to_people(13, False, True)"
   ]
  },
  {
   "cell_type": "code",
   "execution_count": 7,
   "id": "4e10c7e1",
   "metadata": {},
   "outputs": [
    {
     "data": {
      "text/plain": [
       "{'id': 415,\n",
       " 'tenant_id': 1,\n",
       " 'cuser_id': 356,\n",
       " 'muser_id': 356,\n",
       " 'cdtz': datetime.datetime(2023, 7, 4, 12, 23, 20, tzinfo=<UTC>),\n",
       " 'mdtz': datetime.datetime(2023, 7, 4, 12, 23, 29, tzinfo=<UTC>),\n",
       " 'ctzoffset': 330,\n",
       " 'uuid': UUID('a616d57e-bde3-1c04-9234-0123456789ab'),\n",
       " 'people_id': 334,\n",
       " 'client_id': 13,\n",
       " 'bu_id': 14,\n",
       " 'shift_id': 1,\n",
       " 'verifiedby_id': 1,\n",
       " 'geofence_id': 1,\n",
       " 'peventtype_id': 68,\n",
       " 'transportmodes': ['NONE'],\n",
       " 'punchintime': datetime.datetime(2023, 7, 4, 12, 23, 20, tzinfo=<UTC>),\n",
       " 'punchouttime': datetime.datetime(2023, 7, 4, 12, 23, 29, tzinfo=<UTC>),\n",
       " 'datefor': datetime.date(2023, 7, 4),\n",
       " 'distance': 0.0,\n",
       " 'duration': 0,\n",
       " 'expamt': 0.0,\n",
       " 'accuracy': 72.9000015258789,\n",
       " 'deviceid': '562817f5d303de0c',\n",
       " 'startlocation': <Point object at 0x7fa6367d8b10>,\n",
       " 'endlocation': <Point object at 0x7fa6367d8c10>,\n",
       " 'journeypath': None,\n",
       " 'remarks': 'None',\n",
       " 'facerecognitionin': True,\n",
       " 'facerecognitionout': True,\n",
       " 'peventlogextras': {'model': 'VGG',\n",
       "  'threshold': '0.4',\n",
       "  'distance_in': 0.14805198153046162,\n",
       "  'verified_in': True,\n",
       "  'distance_out': 0.15896078834162064,\n",
       "  'verified_out': True,\n",
       "  'similarity_metric': 'cosine'},\n",
       " 'otherlocation': 'SPS HO',\n",
       " 'reference': 'NONE',\n",
       " 'geojson': {'endlocation': '', 'startlocation': ''}}"
      ]
     },
     "execution_count": 7,
     "metadata": {},
     "output_type": "execute_result"
    }
   ],
   "source": [
    "PeopleEventlog.objects.filter(peventtype__tacode='MARK').order_by('-cdtz').values()[0]"
   ]
  },
  {
   "cell_type": "code",
   "execution_count": 8,
   "id": "0fa71e4a",
   "metadata": {},
   "outputs": [
    {
     "data": {
      "text/plain": [
       "(1, {'y_helpdesk.Ticket': 1})"
      ]
     },
     "execution_count": 8,
     "metadata": {},
     "output_type": "execute_result"
    }
   ],
   "source": [
    "Ticket.objects.filter(id=36).delete()"
   ]
  },
  {
   "cell_type": "code",
   "execution_count": 24,
   "id": "2addb92f",
   "metadata": {},
   "outputs": [],
   "source": [
    "from django.db.models import Q, F, ExpressionWrapper, fields\n",
    "from django.utils import timezone\n",
    "from django.db import connection\n",
    "\n",
    "def fun_getexttourjobneed(_peopleid, _clientid):\n",
    "    groupids = Pgbelonging.objects.filter(people_id=_peopleid).exclude(pgroup_id=-1).values_list('pgroup_id', flat=True)\n",
    "\n",
    "    current_date = timezone.now()\n",
    "    next_day = current_date + timezone.timedelta(days=1)\n",
    "\n",
    "    job_needs = Jobneed.objects.filter(\n",
    "        Q(Q(plandatetime__date__range=[current_date.date(), next_day.date()]) | Q(plandatetime__lte=current_date, expirydatetime__gte=current_date)),\n",
    "        Q(people_id=_peopleid) | Q(cuser_id=_peopleid) | Q(muser_id=_peopleid) | Q(pgroup_id__in=groupids),\n",
    "        client_id=_clientid,\n",
    "        identifier='EXTERNALTOUR'\n",
    "        \n",
    "    ).values(\n",
    "        'id', 'jobdesc', 'plandatetime', 'expirydatetime', 'gracetime', 'receivedonserver', 'starttime', 'endtime', \n",
    "        'gpslocation', 'remarks', 'cdtz', 'mdtz', 'pgroup_id', 'asset_id', 'cuser_id', 'frequency', 'job_id', 'jobstatus', \n",
    "        'jobtype', 'muser_id', 'performedby_id', 'priority', 'qset_id', 'scantype', 'people_id', 'attachmentcount', \n",
    "        'identifier', 'parent_id', 'bu_id', 'client_id', 'seqno', 'ticketcategory_id', 'ctzoffset', 'multifactor', 'uuid'\n",
    "    ).annotate(\n",
    "        adjusted_plan_date=ExpressionWrapper(F('plandatetime') + F('ctzoffset') * timezone.timedelta(minutes=1), output_field=fields.DateTimeField())\n",
    "    )\n",
    "\n",
    "    return job_needs\n"
   ]
  },
  {
   "cell_type": "code",
   "execution_count": 26,
   "id": "2e69894f",
   "metadata": {},
   "outputs": [
    {
     "data": {
      "text/plain": [
       "<QuerySet []>"
      ]
     },
     "execution_count": 26,
     "metadata": {},
     "output_type": "execute_result"
    }
   ],
   "source": [
    "fun_getexttourjobneed(372, 14)"
   ]
  },
  {
   "cell_type": "code",
   "execution_count": 4,
   "id": "d6e00707",
   "metadata": {},
   "outputs": [],
   "source": [
    "# Get the QuestionSets with related questions\n",
    "questionsets_with_questions = QuestionSet.objects.annotate(\n",
    "    num_questions=Count('questionsetbelonging')\n",
    ").filter(num_questions__gt=0)"
   ]
  },
  {
   "cell_type": "code",
   "execution_count": 6,
   "id": "bf7cc9fc",
   "metadata": {},
   "outputs": [
    {
     "data": {
      "text/plain": [
       "<QuerySet []>"
      ]
     },
     "execution_count": 6,
     "metadata": {},
     "output_type": "execute_result"
    }
   ],
   "source": [
    "questionsets_with_questions.filter(qsetname = 'TLB Inspection Check')"
   ]
  },
  {
   "cell_type": "code",
   "execution_count": null,
   "id": "e5812852",
   "metadata": {},
   "outputs": [],
   "source": []
  }
 ],
 "metadata": {
  "kernelspec": {
   "display_name": "Django Shell-Plus",
   "language": "python",
   "name": "django_extensions"
  },
  "language_info": {
   "codemirror_mode": {
    "name": "ipython",
    "version": 3
   },
   "file_extension": ".py",
   "mimetype": "text/x-python",
   "name": "python",
   "nbconvert_exporter": "python",
   "pygments_lexer": "ipython3",
   "version": "3.10.6"
  }
 },
 "nbformat": 4,
 "nbformat_minor": 5
}
