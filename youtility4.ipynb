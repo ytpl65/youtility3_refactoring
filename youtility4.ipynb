{
 "cells": [
  {
   "cell_type": "markdown",
   "id": "603b848e",
   "metadata": {},
   "source": [
    "### Set up django env"
   ]
  },
  {
   "cell_type": "code",
   "execution_count": 2,
   "id": "e95278fd",
   "metadata": {},
   "outputs": [],
   "source": [
    "import os\n",
    "import django\n",
    "os.environ.setdefault('DJANGO_SETTINGS_MODULE', 'intelliwiz_config.settings')\n",
    "os.environ[\"DJANGO_ALLOW_ASYNC_UNSAFE\"] = \"true\"\n",
    "django.setup()\n",
    "    \n",
    "\n",
    "    "
   ]
  },
  {
   "cell_type": "markdown",
   "id": "f9ce741c",
   "metadata": {},
   "source": [
    "### Import required modules"
   ]
  },
  {
   "cell_type": "code",
   "execution_count": 3,
   "id": "d5cc7a33",
   "metadata": {},
   "outputs": [],
   "source": [
    "from apps.activity.models import Asset, Attachment, Device, DeviceEventlog,  Event, Job, Jobneed, JobneedDetails, Question, QuestionSet, QuestionSetBelonging,  WorkPermit\n",
    "from apps.attendance.models import PeopleEventlog, TestGeo, Tracking\n",
    "from apps.y_helpdesk.models import Ticket, EscalationMatrix\n",
    "from apps.onboarding.models import Bt, Contract, ContractDetail, GeofenceMaster, Shift, SitePeople, TypeAssist, WizardDraft\n",
    "from apps.peoples.models import Capability, People, PermissionGroup, Pgbelonging, Pgroup\n",
    "from apps.tenants.models import Tenant\n",
    "from django.contrib.admin.models import LogEntry\n",
    "from django.contrib.auth.models import Group, Permission\n",
    "from django.contrib.contenttypes.models import ContentType\n",
    "from django.contrib.sessions.models import Session\n",
    "# Shell Plus Django Imports\n",
    "from django.core.cache import cache\n",
    "from django.conf import settings\n",
    "from django.contrib.auth import get_user_model\n",
    "from django.db import transaction\n",
    "from django.db.models import Avg, Case, Count, F, Max, Min, Prefetch, Q, Sum, When, ExpressionWrapper\n",
    "\n",
    "from django.urls import reverse\n",
    "from django.db.models import Exists, OuterRef, Subquery, Value\n",
    "from django.db.models.functions import  ACos, Round, Cos, Radians, Concat\n",
    "from django.contrib.gis.db.models.functions import  Cast\n",
    "from django.contrib.gis.db.models.functions import Distance, AsGeoJSON\n",
    "from django.db import models\n",
    "import requests"
   ]
  },
  {
   "cell_type": "code",
   "execution_count": 6,
   "id": "546991c4",
   "metadata": {},
   "outputs": [],
   "source": [
    "from datetime import datetime, timedelta, timezone"
   ]
  },
  {
   "cell_type": "code",
   "execution_count": 5,
   "id": "1711b294",
   "metadata": {},
   "outputs": [],
   "source": [
    "import rt.rest2\n",
    "\n",
    "api_url = 'https://rt.youtility.in/REST/2.0/'\n",
    "username = 'root'\n",
    "password = 'password'\n",
    "c = rt.rest2.Rt(url=api_url, http_auth=requests.auth.HTTPBasicAuth(username, password))"
   ]
  },
  {
   "cell_type": "code",
   "execution_count": 5,
   "id": "8ebf014d",
   "metadata": {},
   "outputs": [
    {
     "data": {
      "text/plain": [
       "True"
      ]
     },
     "execution_count": 5,
     "metadata": {},
     "output_type": "execute_result"
    }
   ],
   "source": [
    "c.user_exists('spsadmin3', privileged=False)\n",
    "\n"
   ]
  },
  {
   "cell_type": "code",
   "execution_count": null,
   "id": "3e7bbbd5",
   "metadata": {},
   "outputs": [],
   "source": []
  },
  {
   "cell_type": "code",
   "execution_count": 17,
   "id": "4b0e0e4d",
   "metadata": {},
   "outputs": [
    {
     "data": {
      "text/plain": [
       "<QuerySet [{'bu_id': 9, 'designation__tacode': 'SITEINCHARGE', 'isverified': True}]>"
      ]
     },
     "execution_count": 17,
     "metadata": {},
     "output_type": "execute_result"
    }
   ],
   "source": [
    "People.objects.filter(\n",
    "peoplecode='YS0040'\n",
    ").values('bu_id', 'designation__tacode', 'isverified')"
   ]
  },
  {
   "cell_type": "code",
   "execution_count": 23,
   "id": "5b03118c",
   "metadata": {},
   "outputs": [
    {
     "data": {
      "text/plain": [
       "<QuerySet [{'plandatetime': datetime.datetime(2023, 1, 14, 4, 40, tzinfo=<UTC>), 'expirydatetime': datetime.datetime(2023, 1, 14, 4, 50, tzinfo=<UTC>), 'parent_id': 4584}, {'plandatetime': datetime.datetime(2023, 1, 14, 5, 50, tzinfo=<UTC>), 'expirydatetime': datetime.datetime(2023, 1, 14, 6, 0, tzinfo=<UTC>), 'parent_id': 4592}, {'plandatetime': datetime.datetime(2023, 1, 14, 11, 0, tzinfo=<UTC>), 'expirydatetime': datetime.datetime(2023, 1, 14, 11, 10, tzinfo=<UTC>), 'parent_id': 4738}, {'plandatetime': datetime.datetime(2023, 1, 14, 12, 20, tzinfo=<UTC>), 'expirydatetime': datetime.datetime(2023, 1, 14, 12, 30, tzinfo=<UTC>), 'parent_id': 6660}]>"
      ]
     },
     "execution_count": 23,
     "metadata": {},
     "output_type": "execute_result"
    }
   ],
   "source": [
    "Jobneed.objects.filter(\n",
    "            #Q(Q(parent_id__in = [1, -1]) | Q(parent_id__isnull=True)),\n",
    "            alerts=True,\n",
    "            identifier='INTERNALTOUR'\n",
    "        ).values('plandatetime', 'expirydatetime', 'parent_id')"
   ]
  },
  {
   "cell_type": "code",
   "execution_count": 16,
   "id": "ba404f13",
   "metadata": {},
   "outputs": [
    {
     "name": "stdout",
     "output_type": "stream",
     "text": [
      " 2023-01-25 18:03:32,472  INFO        from method: alert_observation                 << Sending alert mail with subject [READINGS ALERT] Site with Name: ICICI SPS HOUSE having checklist [GATE CHECKLIST] - readings out of range >>\n",
      " 2023-01-25 18:03:32,474  INFO        from method: alert_observation                 << Attachments are going to attach >>\n",
      " 2023-01-25 18:03:32,487  INFO        from method: add_attachments                   << attachments are attached.... >>\n",
      " 2023-01-25 18:03:32,489  INFO        from method: add_attachments                   << attachments are attached.... >>\n",
      " 2023-01-25 18:03:32,490  INFO        from method: add_attachments                   << attachments are attached.... >>\n",
      " 2023-01-25 18:03:32,492  INFO        from method: add_attachments                   << attachments are attached.... >>\n",
      " 2023-01-25 18:03:38,687  INFO        from method: alert_observation                 << Alert mail sent to ['naveen.sargam@youtility.in', 'vaishvika.pawar@youtility.in', 'namrata.shahid@gmail.com', 'dilvag.sjngh@spsindia.com', 'naveen.sargam@youtility.in', 'n.shahid@yahoo.co.in', 'namrata.shahid@youtility.in', 'namrata.shahid@gmail.com'] with subject [READINGS ALERT] Site with Name: ICICI SPS HOUSE having checklist [GATE CHECKLIST] - readings out of range >>\n"
     ]
    }
   ],
   "source": [
    "from apps.service.utils import get_email_recipients, add_attachments, alert_observation\n",
    "alert_observation(jn, True)"
   ]
  },
  {
   "cell_type": "code",
   "execution_count": 3,
   "id": "5ed28ef8",
   "metadata": {},
   "outputs": [
    {
     "data": {
      "text/plain": [
       "<QuerySet [{'fromdate': datetime.datetime(2023, 2, 1, 18, 30, tzinfo=<UTC>), 'uptodate': datetime.datetime(2023, 2, 4, 18, 29, tzinfo=<UTC>)}]>"
      ]
     },
     "execution_count": 3,
     "metadata": {},
     "output_type": "execute_result"
    }
   ],
   "source": [
    "Jobneed.objects.filter(job_id=1055).values('plandatetime','expirydatetime').order_by('plandatetime', 'expirydatetime').distinct('plandatetime', 'expirydatetime')\n",
    "Job.objects.filter(id=1055).values('fromdate', 'uptodate')"
   ]
  },
  {
   "cell_type": "code",
   "execution_count": 6,
   "id": "1504bf9f",
   "metadata": {
    "scrolled": false
   },
   "outputs": [
    {
     "name": "stdout",
     "output_type": "stream",
     "text": [
      " 2023-02-08 21:21:17,938  INFO        from method: create_ppm_job                    << processing jobs started found:= '1' jobs >>\n",
      " 2023-02-08 21:21:17,940  INFO        from method: calculate_startdtz_enddtz_for_ppm  << calculating startdtz, enddtz for job:= [1068] >>\n",
      " 2023-02-08 21:21:17,941  INFO        from method: del_job                           << deleting old jobs start[+] >>\n",
      " 2023-02-08 21:21:17,947  INFO        from method: del_job                           << total jobneedetails deleted: 8 >>\n",
      " 2023-02-08 21:21:17,949  INFO        from method: del_job                           << total jobneed deleted: 2 >>\n",
      " 2023-02-08 21:21:17,951  INFO        from method: del_job                           << deleting old jobs end[-] >>\n",
      " 2023-02-08 21:21:17,952  INFO        from method: del_ppm_reminder                  << del_ppm_reminder start + >>\n"
     ]
    },
    {
     "name": "stderr",
     "output_type": "stream",
     "text": [
      "/home/redmine/envs/youtility4/lib/python3.10/site-packages/django/db/models/fields/__init__.py:1416: RuntimeWarning: DateTimeField Reminder.reminderdate received a naive datetime (2023-02-08 21:21:17.953416) while time zone support is active.\n",
      "  warnings.warn(\"DateTimeField %s received a naive datetime (%s)\"\n"
     ]
    },
    {
     "name": "stdout",
     "output_type": "stream",
     "text": [
      " 2023-02-08 21:21:17,955  INFO        from method: del_ppm_reminder                  << del_ppm_reminder end - >>\n",
      " 2023-02-08 21:21:17,956  DEBUG       from method: create_ppm_job                    << Jobs to be schedhuled from startdatetime 2023-02-08 21:21:17+05:30 to enddatetime 2023-02-10 23:00:00+05:30 >>\n",
      " 2023-02-08 21:21:17,957  INFO        from method: get_datetime_list                 << get_datetime_list(cron_exp, startdtz, enddtz) [start] >>\n",
      " 2023-02-08 21:21:17,958  INFO        from method: get_datetime_list                 << getting datetime list for cron:=30 21 * * *, starttime:= '2023-02-08 21:21:17+05:30' and endtime:= '2023-02-10 23:00:00+05:30' >>\n",
      " 2023-02-08 21:21:17,961  INFO        from method: get_datetime_list                 << Datetime list calculated are as follows:= [datetime.datetime(2023, 2, 8, 21, 30, tzinfo=datetime.timezone(datetime.timedelta(seconds=19800))),\n",
      " datetime.datetime(2023, 2, 9, 21, 30, tzinfo=datetime.timezone(datetime.timedelta(seconds=19800))),\n",
      " datetime.datetime(2023, 2, 10, 21, 30, tzinfo=datetime.timezone(datetime.timedelta(seconds=19800)))] >>\n",
      " 2023-02-08 21:21:17,962  INFO        from method: get_datetime_list                 << get_datetime_list(cron_exp, startdtz, enddtz) [end] >>\n"
     ]
    },
    {
     "name": "stderr",
     "output_type": "stream",
     "text": [
      "ic| 'resp in get_datetime_list()', resp: None\n"
     ]
    },
    {
     "name": "stdout",
     "output_type": "stream",
     "text": [
      " 2023-02-08 21:21:18,203  DEBUG       from method: create_ppm_job                    << Jobneed will going to create for all this datetimes\n",
      " ['08-Feb-2023 21:30', '09-Feb-2023 21:30', '10-Feb-2023 21:30'] >>\n",
      " 2023-02-08 21:21:18,204  INFO        from method: insert_into_jn_and_jnd            << insert_into_jn_and_jnd() [ start ] >>\n",
      " 2023-02-08 21:21:18,214  INFO        from method: to_utc                            << to_utc() start [+] >>\n",
      " 2023-02-08 21:21:18,216  INFO        from method: to_utc                            << found total 3 datetimes >>\n",
      " 2023-02-08 21:21:18,217  INFO        from method: to_utc                            << before conversion datetimes [datetime.datetime(2023, 2, 8, 21, 30, tzinfo=datetime.timezone(datetime.timedelta(seconds=19800))), datetime.datetime(2023, 2, 9, 21, 30, tzinfo=datetime.timezone(datetime.timedelta(seconds=19800))), datetime.datetime(2023, 2, 10, 21, 30, tzinfo=datetime.timezone(datetime.timedelta(seconds=19800)))] >>\n",
      " 2023-02-08 21:21:18,218  INFO        from method: to_utc                            << after conversion datetime list returned dtlist=[datetime.datetime(2023, 2, 8, 16, 0, tzinfo=<UTC>), datetime.datetime(2023, 2, 9, 16, 0, tzinfo=<UTC>), datetime.datetime(2023, 2, 10, 16, 0, tzinfo=<UTC>)] >>\n",
      " 2023-02-08 21:21:18,220  DEBUG       from method: insert_into_jn_and_jnd            << pdtz:=2023-02-08 16:00:00+00:00 edtz:=2023-02-08 16:15:00+00:00 >>\n",
      " 2023-02-08 21:21:18,223  INFO        from method: insert_update_jobneeddetails      << insert_update_jobneeddetails() [START] >>\n"
     ]
    },
    {
     "name": "stderr",
     "output_type": "stream",
     "text": [
      "ic| parent: False, job['qset_id']: 3\n"
     ]
    },
    {
     "name": "stdout",
     "output_type": "stream",
     "text": [
      " 2023-02-08 21:21:18,246  INFO        from method: insert_update_jobneeddetails      << Checklist found with 4 questions in it. >>\n",
      " 2023-02-08 21:21:18,247  INFO        from method: insert_into_jnd                   << insert_into_jnd() [START] >>\n",
      " 2023-02-08 21:21:18,250  INFO        from method: insert_into_jnd                   << insert_into_jnd() [END] >>\n",
      " 2023-02-08 21:21:18,251  INFO        from method: insert_update_jobneeddetails      << insert_update_jobneeddetails() [END] >>\n",
      " 2023-02-08 21:21:18,252  INFO        from method: insert_into_jn_and_jnd            << createJob() parent jobneed:= 7523 >>\n",
      " 2023-02-08 21:21:18,253  DEBUG       from method: insert_into_jn_and_jnd            << pdtz:=2023-02-09 16:00:00+00:00 edtz:=2023-02-09 16:15:00+00:00 >>\n",
      " 2023-02-08 21:21:18,256  INFO        from method: insert_update_jobneeddetails      << insert_update_jobneeddetails() [START] >>\n"
     ]
    },
    {
     "name": "stderr",
     "output_type": "stream",
     "text": [
      "ic| parent: False, job['qset_id']: 3\n"
     ]
    },
    {
     "name": "stdout",
     "output_type": "stream",
     "text": [
      " 2023-02-08 21:21:18,268  INFO        from method: insert_update_jobneeddetails      << Checklist found with 4 questions in it. >>\n",
      " 2023-02-08 21:21:18,269  INFO        from method: insert_into_jnd                   << insert_into_jnd() [START] >>\n",
      " 2023-02-08 21:21:18,273  INFO        from method: insert_into_jnd                   << insert_into_jnd() [END] >>\n",
      " 2023-02-08 21:21:18,274  INFO        from method: insert_update_jobneeddetails      << insert_update_jobneeddetails() [END] >>\n",
      " 2023-02-08 21:21:18,275  INFO        from method: insert_into_jn_and_jnd            << createJob() parent jobneed:= 7524 >>\n",
      " 2023-02-08 21:21:18,276  DEBUG       from method: insert_into_jn_and_jnd            << pdtz:=2023-02-10 16:00:00+00:00 edtz:=2023-02-10 16:15:00+00:00 >>\n",
      " 2023-02-08 21:21:18,278  INFO        from method: insert_update_jobneeddetails      << insert_update_jobneeddetails() [START] >>\n"
     ]
    },
    {
     "name": "stderr",
     "output_type": "stream",
     "text": [
      "ic| parent: False, job['qset_id']: 3\n"
     ]
    },
    {
     "name": "stdout",
     "output_type": "stream",
     "text": [
      " 2023-02-08 21:21:18,291  INFO        from method: insert_update_jobneeddetails      << Checklist found with 4 questions in it. >>\n",
      " 2023-02-08 21:21:18,292  INFO        from method: insert_into_jnd                   << insert_into_jnd() [START] >>\n",
      " 2023-02-08 21:21:18,296  INFO        from method: insert_into_jnd                   << insert_into_jnd() [END] >>\n",
      " 2023-02-08 21:21:18,297  INFO        from method: insert_update_jobneeddetails      << insert_update_jobneeddetails() [END] >>\n",
      " 2023-02-08 21:21:18,298  INFO        from method: insert_into_jn_and_jnd            << createJob() parent jobneed:= 7525 >>\n",
      " 2023-02-08 21:21:18,299  INFO        from method: update_lastgeneratedon            << update_lastgeneratedon [start] >>\n",
      " 2023-02-08 21:21:18,300  INFO        from method: update_lastgeneratedon            << after lastgenreatedon:=2023-02-10 16:00:00+00:00 >>\n",
      " 2023-02-08 21:21:18,302  INFO        from method: update_lastgeneratedon            << update_lastgeneratedon [end] >>\n",
      " 2023-02-08 21:21:18,303  INFO        from method: insert_into_jn_and_jnd            << insert_into_jn_and_jnd() [ End ] >>\n"
     ]
    },
    {
     "name": "stderr",
     "output_type": "stream",
     "text": [
      "/home/redmine/envs/youtility4/lib/python3.10/site-packages/django/db/models/fields/__init__.py:1416: RuntimeWarning: DateTimeField Jobneed.plandatetime received a naive datetime (2023-02-08 21:21:18.304417) while time zone support is active.\n",
      "  warnings.warn(\"DateTimeField %s received a naive datetime (%s)\"\n"
     ]
    },
    {
     "name": "stdout",
     "output_type": "stream",
     "text": [
      " 2023-02-08 21:21:18,317  INFO        from method: create_ppm_reminder               << create_ppm_reminder() jobneed:7523 plandatetime 2023-02-08 16:00:00+00:00 jobdesc TestPPMFeb82022 buid 9 asset_id 50 qsetid 3 >>\n",
      " 2023-02-08 21:21:18,319  DEBUG       from method: create_ppm_reminder               << reminder : <EscalationMatrix: EscalationMatrix object (3)> >>\n",
      " 2023-02-08 21:21:18,321  INFO        from method: create_ppm_reminder               << create_ppm_reminder() jobneed:7524 plandatetime 2023-02-09 16:00:00+00:00 jobdesc TestPPMFeb82022 buid 9 asset_id 50 qsetid 3 >>\n",
      " 2023-02-08 21:21:18,322  DEBUG       from method: create_ppm_reminder               << reminder : <EscalationMatrix: EscalationMatrix object (3)> >>\n",
      " 2023-02-08 21:21:18,324  INFO        from method: create_ppm_reminder               << create_ppm_reminder() jobneed:7525 plandatetime 2023-02-10 16:00:00+00:00 jobdesc TestPPMFeb82022 buid 9 asset_id 50 qsetid 3 >>\n",
      " 2023-02-08 21:21:18,325  DEBUG       from method: create_ppm_reminder               << reminder : <EscalationMatrix: EscalationMatrix object (3)> >>\n"
     ]
    }
   ],
   "source": [
    "from apps.schedhuler.utils import create_ppm_job\n",
    "create_ppm_job(1068)"
   ]
  },
  {
   "cell_type": "markdown",
   "id": "099bd2b9",
   "metadata": {},
   "source": [
    "## Request Tracker R&D"
   ]
  },
  {
   "cell_type": "code",
   "execution_count": 7,
   "id": "143db098",
   "metadata": {},
   "outputs": [
    {
     "data": {
      "text/plain": [
       "<QuerySet [{'tenant_id': None, 'cuser_id': 8, 'muser_id': 8, 'cdtz': datetime.datetime(2023, 2, 3, 13, 1, 31, tzinfo=<UTC>), 'mdtz': datetime.datetime(2023, 2, 3, 13, 3, 12, tzinfo=<UTC>), 'ctzoffset': -1, 'uuid': UUID('4a12f705-279b-41f8-ae5d-c46486a41789'), 'id': 1, 'ticketdesc': 'test', 'assignedtopeople_id': 11, 'assignedtogroup_id': 1, 'comments': 'fdsafsaf', 'bu_id': 9, 'client_id': None, 'priority': None, 'ticketcategory_id': 1, 'location_id': 5, 'modifieddatetime': datetime.datetime(2023, 2, 3, 13, 3, 12, 348235, tzinfo=<UTC>), 'level': 0, 'status': None, 'performedby_id': None, 'ticketlog': {'statusjbdata': []}, 'events': None, 'isescalated': False, 'ticketsource': None}, {'tenant_id': None, 'cuser_id': 8, 'muser_id': 8, 'cdtz': datetime.datetime(2023, 2, 3, 13, 19, 26, tzinfo=<UTC>), 'mdtz': datetime.datetime(2023, 2, 3, 13, 19, 46, tzinfo=<UTC>), 'ctzoffset': -1, 'uuid': UUID('aca41daf-529d-42f4-bfd6-d753bb82f579'), 'id': 2, 'ticketdesc': 'testDescription', 'assignedtopeople_id': 45, 'assignedtogroup_id': 1, 'comments': 'fdsafsaf', 'bu_id': 9, 'client_id': None, 'priority': None, 'ticketcategory_id': 220, 'location_id': 5, 'modifieddatetime': datetime.datetime(2023, 2, 3, 13, 19, 46, 509259, tzinfo=<UTC>), 'level': 0, 'status': None, 'performedby_id': None, 'ticketlog': {'statusjbdata': []}, 'events': None, 'isescalated': False, 'ticketsource': None}]>"
      ]
     },
     "execution_count": 7,
     "metadata": {},
     "output_type": "execute_result"
    }
   ],
   "source": [
    "Ticket.objects.values()"
   ]
  },
  {
   "cell_type": "code",
   "execution_count": 10,
   "id": "d1977dfb",
   "metadata": {},
   "outputs": [],
   "source": [
    "t = TypeAssist.objects.filter(id=206).first()"
   ]
  },
  {
   "cell_type": "code",
   "execution_count": 11,
   "id": "009eebe5",
   "metadata": {},
   "outputs": [
    {
     "data": {
      "text/plain": [
       "<QuerySet [<EscalationMatrix: EscalationMatrix object (1)>]>"
      ]
     },
     "execution_count": 11,
     "metadata": {},
     "output_type": "execute_result"
    }
   ],
   "source": [
    "t.esc_types.select_related('escalationtemplate', 'assignedperson', 'assignedgroup').all()"
   ]
  },
  {
   "cell_type": "code",
   "execution_count": 12,
   "id": "f97d6b3d",
   "metadata": {},
   "outputs": [],
   "source": [
    "T = TypeAssist.objects.filter(tacode=\"TESTINGENABLE\").order_by('-cdtz').first()"
   ]
  },
  {
   "cell_type": "code",
   "execution_count": 13,
   "id": "3cc19453",
   "metadata": {},
   "outputs": [
    {
     "data": {
      "text/plain": [
       "True"
      ]
     },
     "execution_count": 13,
     "metadata": {},
     "output_type": "execute_result"
    }
   ],
   "source": [
    "T.enable"
   ]
  },
  {
   "cell_type": "code",
   "execution_count": 4,
   "id": "fafaf128",
   "metadata": {},
   "outputs": [],
   "source": [
    "j  = Job.objects.get(id=1068)"
   ]
  },
  {
   "cell_type": "code",
   "execution_count": 6,
   "id": "862e4475",
   "metadata": {},
   "outputs": [
    {
     "data": {
      "text/plain": [
       "<QuerySet [{'id': 7461, 'plandatetime': datetime.datetime(2023, 2, 8, 13, 45, tzinfo=<UTC>)}, {'id': 7462, 'plandatetime': datetime.datetime(2023, 2, 9, 13, 45, tzinfo=<UTC>)}, {'id': 7463, 'plandatetime': datetime.datetime(2023, 2, 10, 13, 45, tzinfo=<UTC>)}, {'id': 7464, 'plandatetime': datetime.datetime(2023, 2, 9, 13, 45, tzinfo=<UTC>)}, {'id': 7465, 'plandatetime': datetime.datetime(2023, 2, 10, 13, 45, tzinfo=<UTC>)}, {'id': 7466, 'plandatetime': datetime.datetime(2023, 2, 9, 13, 45, tzinfo=<UTC>)}, {'id': 7467, 'plandatetime': datetime.datetime(2023, 2, 10, 13, 45, tzinfo=<UTC>)}]>"
      ]
     },
     "execution_count": 6,
     "metadata": {},
     "output_type": "execute_result"
    }
   ],
   "source": [
    "Jobneed.objects.filter(job_id = 1068).values(\"id\", 'plandatetime')"
   ]
  },
  {
   "cell_type": "code",
   "execution_count": 6,
   "id": "365508f9",
   "metadata": {},
   "outputs": [],
   "source": [
    "from apps.core import utils"
   ]
  },
  {
   "cell_type": "code",
   "execution_count": 4,
   "id": "9bebfd6e",
   "metadata": {},
   "outputs": [],
   "source": [
    "now = datetime.now()"
   ]
  },
  {
   "cell_type": "code",
   "execution_count": 7,
   "id": "039e43a5",
   "metadata": {},
   "outputs": [
    {
     "name": "stdout",
     "output_type": "stream",
     "text": [
      " 2023-02-08 15:53:02,013  INFO        from method: to_utc                            << to_utc() start [+] >>\n",
      " 2023-02-08 15:53:02,016  INFO        from method: to_utc                            << found total [datetime.datetime(2023, 2, 8, 15, 52, 55, 750495)] datetimes >>\n",
      " 2023-02-08 15:53:02,017  INFO        from method: to_utc                            << datetime list returned dtlist=[datetime.datetime(2023, 2, 8, 10, 22, 55, tzinfo=<UTC>)] >>\n"
     ]
    },
    {
     "data": {
      "text/plain": [
       "[datetime.datetime(2023, 2, 8, 10, 22, 55, tzinfo=<UTC>)]"
      ]
     },
     "execution_count": 7,
     "metadata": {},
     "output_type": "execute_result"
    }
   ],
   "source": [
    "utils.to_utc([now])"
   ]
  },
  {
   "cell_type": "code",
   "execution_count": 8,
   "id": "9ca3c33e",
   "metadata": {},
   "outputs": [
    {
     "data": {
      "text/plain": [
       "datetime.datetime(2023, 2, 8, 10, 43, 10, tzinfo=datetime.timezone.utc)"
      ]
     },
     "execution_count": 8,
     "metadata": {},
     "output_type": "execute_result"
    }
   ],
   "source": [
    "datetime.now(timezone.utc).replace(microsecond=0)"
   ]
  },
  {
   "cell_type": "code",
   "execution_count": 11,
   "id": "cd3b7815",
   "metadata": {},
   "outputs": [],
   "source": [
    "tz = timezone(timedelta(minutes = 330))\n",
    "current_date = datetime.now(timezone.utc).replace(microsecond=0, tzinfo=tz) + timedelta(minutes=330)"
   ]
  },
  {
   "cell_type": "code",
   "execution_count": 12,
   "id": "77d7f91c",
   "metadata": {},
   "outputs": [
    {
     "data": {
      "text/plain": [
       "datetime.datetime(2023, 2, 8, 16, 14, 33, tzinfo=datetime.timezone(datetime.timedelta(seconds=19800)))"
      ]
     },
     "execution_count": 12,
     "metadata": {},
     "output_type": "execute_result"
    }
   ],
   "source": [
    "current_date"
   ]
  },
  {
   "cell_type": "code",
   "execution_count": 12,
   "id": "41d1d239",
   "metadata": {},
   "outputs": [
    {
     "data": {
      "text/plain": [
       "int"
      ]
     },
     "execution_count": 12,
     "metadata": {},
     "output_type": "execute_result"
    }
   ],
   "source": [
    "type(Reminder.objects.order_by('-id').values(\"ctzoffset\")[0]['ctzoffset'])"
   ]
  },
  {
   "cell_type": "code",
   "execution_count": 9,
   "id": "d86d8d4f",
   "metadata": {},
   "outputs": [
    {
     "data": {
      "text/plain": [
       "(1315, {'reminder.Reminder': 1315})"
      ]
     },
     "execution_count": 9,
     "metadata": {},
     "output_type": "execute_result"
    }
   ],
   "source": [
    "Reminder.objects.filter(reminderdate__isnull=True).delete()"
   ]
  },
  {
   "cell_type": "code",
   "execution_count": null,
   "id": "66a0e930",
   "metadata": {},
   "outputs": [],
   "source": []
  },
  {
   "cell_type": "code",
   "execution_count": null,
   "id": "8f3f0152",
   "metadata": {},
   "outputs": [],
   "source": []
  }
 ],
 "metadata": {
  "kernelspec": {
   "display_name": "Django Shell-Plus",
   "language": "python",
   "name": "django_extensions"
  },
  "language_info": {
   "codemirror_mode": {
    "name": "ipython",
    "version": 3
   },
   "file_extension": ".py",
   "mimetype": "text/x-python",
   "name": "python",
   "nbconvert_exporter": "python",
   "pygments_lexer": "ipython3",
   "version": "3.10.6"
  }
 },
 "nbformat": 4,
 "nbformat_minor": 5
}
