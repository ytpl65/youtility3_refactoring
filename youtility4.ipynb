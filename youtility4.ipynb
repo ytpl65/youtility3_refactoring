{
 "cells": [
  {
   "cell_type": "code",
   "execution_count": 1,
   "id": "ffcf8513",
   "metadata": {},
   "outputs": [],
   "source": [
    "#django env setup\n",
    "import os, sys\n",
    "os.environ.setdefault(\"DJANGO_SETTINGS_MODULE\", \"intelliwiz_config,settings.py\")\n",
    "os.environ[\"DJANGO_ALLOW_ASYNC_UNSAFE\"] = \"true\"\n",
    "import django\n",
    "django.setup()"
   ]
  },
  {
   "cell_type": "code",
   "execution_count": 2,
   "id": "190d89d0",
   "metadata": {},
   "outputs": [],
   "source": [
    "# Model imports\n",
    "from apps.activity.models import Asset,AssetLog, Attachment, Device, DeviceEventlog, Event, Job, Jobneed, JobneedDetails, Location, Question, QuestionSet, QuestionSetBelonging, WorkPermit\n",
    "from apps.attendance.models import PeopleEventlog, TestGeo, Tracking\n",
    "from apps.onboarding.models import Bt, Contract, ContractDetail, GeofenceMaster, Shift, SitePeople, TypeAssist, WizardDraft\n",
    "from apps.peoples.models import Capability, People, PermissionGroup, Pgbelonging, Pgroup\n",
    "from apps.reminder.models import Reminder\n",
    "from apps.tenants.models import Tenant\n",
    "from apps.y_helpdesk.models import EscalationMatrix, Ticket\n",
    "from apps.core import utils\n",
    "import pandas as pd\n",
    "\n",
    "# Shell Plus Django Imports\n",
    "from django.db import transaction\n",
    "from django.db.models import Avg, Case, Count, F, Max, Min, Prefetch, Q, Sum, When, ExpressionWrapper, Value as V\n",
    "from django.db.models.functions import Concat, Cast\n",
    "from django.utils import timezone\n",
    "from django.urls import reverse\n",
    "from django.db.models import Exists, OuterRef, Subquery, FloatField, CharField, IntegerField\n",
    "from datetime import datetime, timedelta"
   ]
  },
  {
   "cell_type": "code",
   "execution_count": 3,
   "id": "a4e1b685",
   "metadata": {},
   "outputs": [],
   "source": [
    "import pandas as pd\n",
    "from IPython.display import display, clear_output\n",
    "import ipywidgets as widgets\n",
    "from IPython.display import display as ipy_display\n",
    "\n",
    "def dq(queryset):\n",
    "    if not queryset: return None\n",
    "    if queryset := list(queryset):\n",
    "    \n",
    "        if isinstance(queryset, (list, tuple)):\n",
    "            # Handle values_list() queryset\n",
    "            df = pd.DataFrame(queryset)\n",
    "        elif isinstance(queryset, dict):\n",
    "            # Handle values() queryset\n",
    "            df = pd.DataFrame.from_records([queryset])\n",
    "        else:\n",
    "            # Handle regular queryset\n",
    "            data = list(queryset.values())\n",
    "            df = pd.DataFrame(data)\n",
    "\n",
    "        # Set pandas display options to show all rows and columns\n",
    "        pd.set_option('display.max_rows', None)\n",
    "        pd.set_option('display.max_columns', None)\n",
    "        pd.set_option('display.width', None)\n",
    "\n",
    "        # Get the specified column names\n",
    "        columns = list(queryset[0].keys())\n",
    "\n",
    "        # Filter the DataFrame based on the specified columns\n",
    "        df_filtered = df[columns]\n",
    "\n",
    "        # Create a scrollable output widget\n",
    "        output_widget = widgets.Output()\n",
    "\n",
    "        # Display the DataFrame inside the output widget\n",
    "        with output_widget:\n",
    "            clear_output()\n",
    "            display(df_filtered)\n",
    "\n",
    "        # Display the output widget\n",
    "        ipy_display(output_widget)\n",
    "    else:\n",
    "        print(\"Empty Queryset\")"
   ]
  },
  {
   "cell_type": "code",
   "execution_count": 10,
   "id": "8a3fa72f",
   "metadata": {},
   "outputs": [
    {
     "data": {
      "text/plain": [
       "19.2291047"
      ]
     },
     "execution_count": 10,
     "metadata": {},
     "output_type": "execute_result"
    }
   ],
   "source": [
    "PeopleEventlog.objects.filter(id = 43).values(\"startlocation\")[0]['startlocation'].coords[1]"
   ]
  },
  {
   "cell_type": "code",
   "execution_count": 5,
   "id": "e88edfd6",
   "metadata": {},
   "outputs": [
    {
     "data": {
      "application/vnd.jupyter.widget-view+json": {
       "model_id": "c347f888917e4dd7864cbb96e6fbc80d",
       "version_major": 2,
       "version_minor": 0
      },
      "text/plain": [
       "Output()"
      ]
     },
     "metadata": {},
     "output_type": "display_data"
    }
   ],
   "source": [
    "qset = TypeAssist.objects.values().order_by('-id')\n",
    "dq(qset)"
   ]
  },
  {
   "cell_type": "code",
   "execution_count": null,
   "id": "5235edde",
   "metadata": {},
   "outputs": [],
   "source": []
  }
 ],
 "metadata": {
  "kernelspec": {
   "display_name": "Django Shell-Plus",
   "language": "python",
   "name": "django_extensions"
  },
  "language_info": {
   "codemirror_mode": {
    "name": "ipython",
    "version": 3
   },
   "file_extension": ".py",
   "mimetype": "text/x-python",
   "name": "python",
   "nbconvert_exporter": "python",
   "pygments_lexer": "ipython3",
   "version": "3.10.6"
  }
 },
 "nbformat": 4,
 "nbformat_minor": 5
}
