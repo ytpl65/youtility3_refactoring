{
 "cells": [
  {
   "cell_type": "code",
   "execution_count": 12,
   "id": "ffcf8513",
   "metadata": {},
   "outputs": [],
   "source": [
    "import os, sys\n",
    "os.environ.setdefault(\"DJANGO_SETTINGS_MODULE\", \"intelliwiz_config,settings.py\")\n",
    "os.environ[\"DJANGO_ALLOW_ASYNC_UNSAFE\"] = \"true\"\n",
    "import django\n",
    "django.setup()"
   ]
  },
  {
   "cell_type": "code",
   "execution_count": 13,
   "id": "190d89d0",
   "metadata": {},
   "outputs": [],
   "source": [
    "# Model imports\n",
    "from apps.activity.models import Asset, Attachment, Device, DeviceEventlog, Event, Job, Jobneed, JobneedDetails, Location, Question, QuestionSet, QuestionSetBelonging, WorkPermit\n",
    "from apps.attendance.models import PeopleEventlog, TestGeo, Tracking\n",
    "from apps.onboarding.models import Bt, Contract, ContractDetail, GeofenceMaster, Shift, SitePeople, TypeAssist, WizardDraft\n",
    "from apps.peoples.models import Capability, People, PermissionGroup, Pgbelonging, Pgroup\n",
    "from apps.reminder.models import Reminder\n",
    "from apps.tenants.models import Tenant\n",
    "from apps.y_helpdesk.models import EscalationMatrix, Ticket\n",
    "\n",
    "# Shell Plus Django Imports\n",
    "from django.db import transaction\n",
    "from django.db.models import Avg, Case, Count, F, Max, Min, Prefetch, Q, Sum, When\n",
    "from django.utils import timezone\n",
    "from django.urls import reverse\n",
    "from django.db.models import Exists, OuterRef, Subquery"
   ]
  },
  {
   "cell_type": "code",
   "execution_count": 3,
   "id": "e895d0b8",
   "metadata": {},
   "outputs": [],
   "source": [
    "# Apps utils imports\n",
    "from apps.y_helpdesk.utils import send_ticket_email\n",
    "from apps.core import utils\n"
   ]
  },
  {
   "cell_type": "code",
   "execution_count": 11,
   "id": "f3b6da5d",
   "metadata": {},
   "outputs": [
    {
     "data": {
      "text/plain": [
       "<People: spsadmin (SPSADMIN1)>"
      ]
     },
     "execution_count": 11,
     "metadata": {},
     "output_type": "execute_result"
    }
   ],
   "source": [
    "t = Ticket.objects.get(id=107)\n",
    "t.cuser"
   ]
  },
  {
   "cell_type": "code",
   "execution_count": 9,
   "id": "fa0d35fd",
   "metadata": {},
   "outputs": [
    {
     "name": "stdout",
     "output_type": "stream",
     "text": [
      " 2023-02-27 12:20:36,317  INFO        from method: send_ticket_email                 << ticket found with ticket id: 104 >>\n",
      " 2023-02-27 12:20:36,320  INFO        from method: send_ticket_email                 << ticket email sending start  >>\n",
      " 2023-02-27 12:20:36,325  INFO        from method: send_ticket_email                 << email addresses of recipents: ['none@youtility.in', 'vaishvika.pawar@youtility.in'] >>\n",
      " 2023-02-27 12:20:36,330  INFO        from method: send_ticket_email                 << context for email template: {'subject': 'Ticket Created: Ticket Number -  Site Name: ICICI SPS HOUSE', 'desc': 'test ticket', 'template': 'General Inquiries', 'status': 'OPEN', 'createdon': '2023-02-25 06:31:37', 'modifiedon': '2023-02-25 06:31:37', 'modifiedby': 'Vaishvika', 'assignedto': 'NONE', 'comments': 'NONE', 'priority': 'HIGH'} >>\n",
      " 2023-02-27 12:20:40,816  INFO        from method: send_ticket_email                 << ticket email sent >>\n"
     ]
    },
    {
     "data": {
      "text/plain": [
       "{}"
      ]
     },
     "execution_count": 9,
     "metadata": {},
     "output_type": "execute_result"
    }
   ],
   "source": [
    "send_ticket_email(t)"
   ]
  },
  {
   "cell_type": "code",
   "execution_count": null,
   "id": "70a91526",
   "metadata": {},
   "outputs": [],
   "source": [
    "from apps.service.t import "
   ]
  }
 ],
 "metadata": {
  "kernelspec": {
   "display_name": "Django Shell-Plus",
   "language": "python",
   "name": "django_extensions"
  },
  "language_info": {
   "codemirror_mode": {
    "name": "ipython",
    "version": 3
   },
   "file_extension": ".py",
   "mimetype": "text/x-python",
   "name": "python",
   "nbconvert_exporter": "python",
   "pygments_lexer": "ipython3",
   "version": "3.10.6"
  }
 },
 "nbformat": 4,
 "nbformat_minor": 5
}
