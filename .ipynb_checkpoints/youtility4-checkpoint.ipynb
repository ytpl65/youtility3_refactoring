{
 "cells": [
  {
   "cell_type": "code",
   "execution_count": 5,
   "id": "ffcf8513",
   "metadata": {},
   "outputs": [],
   "source": [
    "import os, sys\n",
    "os.environ.setdefault(\"DJANGO_SETTINGS_MODULE\", \"intelliwiz_config,settings.py\")\n",
    "os.environ[\"DJANGO_ALLOW_ASYNC_UNSAFE\"] = \"true\"\n",
    "import django\n",
    "django.setup()"
   ]
  },
  {
   "cell_type": "code",
   "execution_count": 6,
   "id": "190d89d0",
   "metadata": {},
   "outputs": [],
   "source": [
    "# Model imports\n",
    "from apps.activity.models import Asset, Attachment, Device, DeviceEventlog, Event, Job, Jobneed, JobneedDetails, Location, Question, QuestionSet, QuestionSetBelonging, WorkPermit\n",
    "from apps.attendance.models import PeopleEventlog, TestGeo, Tracking\n",
    "from apps.onboarding.models import Bt, Contract, ContractDetail, GeofenceMaster, Shift, SitePeople, TypeAssist, WizardDraft\n",
    "from apps.peoples.models import Capability, People, PermissionGroup, Pgbelonging, Pgroup\n",
    "from apps.reminder.models import Reminder\n",
    "from apps.tenants.models import Tenant\n",
    "from apps.y_helpdesk.models import EscalationMatrix, Ticket\n",
    "\n",
    "# Shell Plus Django Imports\n",
    "from django.db import transaction\n",
    "from django.db.models import Avg, Case, Count, F, Max, Min, Prefetch, Q, Sum, When\n",
    "from django.utils import timezone\n",
    "from django.urls import reverse\n",
    "from django.db.models import Exists, OuterRef, Subquery"
   ]
  },
  {
   "cell_type": "code",
   "execution_count": 3,
   "id": "e895d0b8",
   "metadata": {},
   "outputs": [],
   "source": [
    "# Apps utils imports\n",
    "from apps.y_helpdesk.utils import send_ticket_email\n",
    "from apps.core import utils\n"
   ]
  },
  {
   "cell_type": "code",
   "execution_count": 19,
   "id": "c809085f",
   "metadata": {},
   "outputs": [
    {
     "data": {
      "text/plain": [
       "<QuerySet [('ICICI ASHER KOLSHET Rd', 'MUM0020', 10), ('ICICI BHIWANDI', 'MUM00021', 28), ('ICICI Indiranagar', 'BAN0001', 23), ('ICICI Phoenix Market City', 'MUM00_3', 39), ('ICICI Ridge Street', 'MUM027', 31)]>"
      ]
     },
     "execution_count": 19,
     "metadata": {},
     "output_type": "execute_result"
    }
   ],
   "source": [
    "Pgbelonging.objects.get_assigned_sites_to_people(52).values_list('bucode')\n"
   ]
  },
  {
   "cell_type": "code",
   "execution_count": 21,
   "id": "89318c8d",
   "metadata": {},
   "outputs": [],
   "source": [
    "p = People.objects.get(id=52)"
   ]
  },
  {
   "cell_type": "code",
   "execution_count": 23,
   "id": "4105a490",
   "metadata": {},
   "outputs": [
    {
     "data": {
      "text/plain": [
       "False"
      ]
     },
     "execution_count": 23,
     "metadata": {},
     "output_type": "execute_result"
    }
   ],
   "source": [
    "p.isverified"
   ]
  },
  {
   "cell_type": "code",
   "execution_count": 6,
   "id": "dfba77ee",
   "metadata": {},
   "outputs": [
    {
     "data": {
      "text/plain": [
       "<QuerySet [<QuestionSet: Youtility AC checklist>, <QuestionSet: testChecklist>, <QuestionSet: Equipment Checklist>, <QuestionSet: Restroom Checklist>, <QuestionSet: Room Checklist>, <QuestionSet: testCheckListUnified>]>"
      ]
     },
     "execution_count": 6,
     "metadata": {},
     "output_type": "execute_result"
    }
   ],
   "source": [
    "QuestionSet.objects.filter(type = QuestionSet.Type.CHECKLIST)"
   ]
  },
  {
   "cell_type": "code",
   "execution_count": 28,
   "id": "867562b4",
   "metadata": {},
   "outputs": [],
   "source": [
    "caps = Capability.objects.select_related('parent').filter(~Q(capscode='NONE'),  cfor = 'WEB').order_by('-parent')"
   ]
  },
  {
   "cell_type": "code",
   "execution_count": 45,
   "id": "e9d5a3d2",
   "metadata": {},
   "outputs": [],
   "source": [
    "web_caps = []\n",
    "current_parent = \"\"\n",
    "for i in caps:\n",
    "    childs = []\n",
    "    if i.parent.capscode == 'NONE':\n",
    "        web_caps.append(i.capscode)\n",
    "        current_parent = i.capscode\n",
    "    if i.parent.capscode == current_parent:\n",
    "        childs.append([i.capscode, i.capsname])\n",
    "    else:\n",
    "        web_caps.append(childs)"
   ]
  },
  {
   "cell_type": "code",
   "execution_count": 46,
   "id": "c5c66ffc",
   "metadata": {},
   "outputs": [
    {
     "data": {
      "text/plain": [
       "[[],\n",
       " [],\n",
       " 'DASHBOARD',\n",
       " [],\n",
       " 'TRACKING',\n",
       " [],\n",
       " 'ONBOARDING',\n",
       " [],\n",
       " 'SCHEDULING',\n",
       " [],\n",
       " 'HELPDESK',\n",
       " [],\n",
       " 'ADMIN',\n",
       " [],\n",
       " [],\n",
       " [],\n",
       " [],\n",
       " 'COMPANYSETUP',\n",
       " []]"
      ]
     },
     "execution_count": 46,
     "metadata": {},
     "output_type": "execute_result"
    }
   ],
   "source": [
    "web_caps"
   ]
  },
  {
   "cell_type": "code",
   "execution_count": 11,
   "id": "afe108f4",
   "metadata": {},
   "outputs": [],
   "source": [
    "from apps.core.raw_queries import get_query\n",
    "web = Capability.objects.raw(get_query('get_web_caps_for_client'))"
   ]
  },
  {
   "cell_type": "code",
   "execution_count": 12,
   "id": "16ce1064",
   "metadata": {},
   "outputs": [
    {
     "name": "stdout",
     "output_type": "stream",
     "text": [
      "1 NONE None WEB\n",
      "101 ADMIN 1 WEB\n",
      "102 TYPEASSIST 101 WEB\n",
      "103 REPORTS 101 WEB\n",
      "187 SITESURVEY 1 WEB\n",
      "105 SRY_SITEREPORT 187 WEB\n",
      "106 SRY_CONVEYANCE 187 WEB\n",
      "72 DASHBOARD 1 WEB\n",
      "73 TRACKING 1 WEB\n",
      "74 GEOFENCETRACKING 73 WEB\n",
      "75 SITETOURTRACKING 73 WEB\n",
      "76 MOBILEUSERLOG 73 WEB\n",
      "77 MOBILEUSERDETAILS 73 WEB\n",
      "78 SOS 73 WEB\n",
      "79 SSINCIDENTREPORT 73 WEB\n",
      "80 PEOPLENEARASSET 73 WEB\n",
      "81 CCTVEVENTS 73 WEB\n",
      "82 ONBOARDING 1 WEB\n",
      "181 COMPANYSETUP 82 WEB\n",
      "83 CS_BUSINESSVIEW 181 WEB\n",
      "84 CS_PEOPLE 181 WEB\n",
      "85 CS_SITEGROUP 181 WEB\n",
      "86 SHIFT 82 WEB\n",
      "87 PEOPLEGROUP 82 WEB\n",
      "88 LOCATION 82 WEB\n",
      "89 ASSET 82 WEB\n",
      "90 CHECKPOINT 82 WEB\n",
      "91 QUESTION 82 WEB\n",
      "92 QUESTIONSET 82 WEB\n",
      "93 SCHEDULING 1 WEB\n",
      "94 TASK 93 WEB\n",
      "95 PPMPLAN 93 WEB\n",
      "96 TOUR 93 WEB\n",
      "97 ROUTEPLAN 93 WEB\n",
      "98 HELPDESK 1 WEB\n",
      "100 TICKETESCALATION 98 WEB\n",
      "99 TICKETS 98 WEB\n"
     ]
    }
   ],
   "source": [
    "for ele in web:\n",
    "    if ele.cfor == 'WEB': \n",
    "        print(ele.id, ele.capscode, ele.parent_id, ele.cfor)"
   ]
  },
  {
   "cell_type": "code",
   "execution_count": 6,
   "id": "96322abf",
   "metadata": {},
   "outputs": [
    {
     "data": {
      "text/plain": [
       "(1, {'peoples.Capability': 1})"
      ]
     },
     "execution_count": 6,
     "metadata": {},
     "output_type": "execute_result"
    }
   ],
   "source": [
    "Capability.objects.filter(enable=False).delete()"
   ]
  },
  {
   "cell_type": "code",
   "execution_count": null,
   "id": "d1e8e308",
   "metadata": {},
   "outputs": [],
   "source": []
  }
 ],
 "metadata": {
  "kernelspec": {
   "display_name": "Django Shell-Plus",
   "language": "python",
   "name": "django_extensions"
  },
  "language_info": {
   "codemirror_mode": {
    "name": "ipython",
    "version": 3
   },
   "file_extension": ".py",
   "mimetype": "text/x-python",
   "name": "python",
   "nbconvert_exporter": "python",
   "pygments_lexer": "ipython3",
   "version": "3.10.6"
  }
 },
 "nbformat": 4,
 "nbformat_minor": 5
}
