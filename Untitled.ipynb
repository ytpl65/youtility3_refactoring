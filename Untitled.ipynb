{
 "cells": [
  {
   "cell_type": "markdown",
   "id": "603b848e",
   "metadata": {},
   "source": [
    "### Set up django env"
   ]
  },
  {
   "cell_type": "code",
   "execution_count": 1,
   "id": "e95278fd",
   "metadata": {},
   "outputs": [],
   "source": [
    "import os\n",
    "import django\n",
    "os.environ.setdefault('DJANGO_SETTINGS_MODULE', 'intelliwiz_config.settings')\n",
    "os.environ[\"DJANGO_ALLOW_ASYNC_UNSAFE\"] = \"true\"\n",
    "django.setup()\n",
    "    \n"
   ]
  },
  {
   "cell_type": "markdown",
   "id": "f9ce741c",
   "metadata": {},
   "source": [
    "### Import required modules"
   ]
  },
  {
   "cell_type": "code",
   "execution_count": 2,
   "id": "d5cc7a33",
   "metadata": {},
   "outputs": [],
   "source": [
    "from apps.activity.models import Asset, Attachment, Device, DeviceEventlog, EscalationMatrix, Event, Job, Jobneed, JobneedDetails, Question, QuestionSet, QuestionSetBelonging, Ticket, WorkPermit\n",
    "from apps.attendance.models import PeopleEventlog, TestGeo, Tracking\n",
    "from apps.onboarding.models import Bt, Contract, ContractDetail, GeofenceMaster, Shift, SitePeople, TypeAssist, WizardDraft\n",
    "from apps.peoples.models import Capability, People, PermissionGroup, Pgbelonging, Pgroup\n",
    "from apps.tenants.models import Tenant\n",
    "from django.contrib.admin.models import LogEntry\n",
    "from django.contrib.auth.models import Group, Permission\n",
    "from django.contrib.contenttypes.models import ContentType\n",
    "from django.contrib.sessions.models import Session\n",
    "# Shell Plus Django Imports\n",
    "from django.core.cache import cache\n",
    "from django.conf import settings\n",
    "from django.contrib.auth import get_user_model\n",
    "from django.db import transaction\n",
    "from django.db.models import Avg, Case, Count, F, Max, Min, Prefetch, Q, Sum, When\n",
    "from django.utils import timezone\n",
    "from django.urls import reverse\n",
    "from django.db.models import Exists, OuterRef, Subquery, Value\n",
    "from django.db.models.functions import  ACos, Round, Cos, Radians, Concat\n",
    "from django.contrib.gis.db.models.functions import  Cast\n",
    "from django.contrib.gis.db.models.functions import Distance\n",
    "from django.db import models"
   ]
  },
  {
   "cell_type": "code",
   "execution_count": 3,
   "id": "546991c4",
   "metadata": {},
   "outputs": [],
   "source": [
    "import datetime"
   ]
  },
  {
   "cell_type": "code",
   "execution_count": 4,
   "id": "e433f616",
   "metadata": {},
   "outputs": [],
   "source": [
    "kwargs =  {'accuracy': '17.041000366210938',\n",
    " 'altitude': '-49.89999771118164',\n",
    " 'applicationversion': '1.0.0',\n",
    " 'availextmemory': '0',\n",
    " 'availintmemory': '0',\n",
    " 'batterylevel': '100%',\n",
    " 'bu_id': 6,\n",
    " 'cdtz': datetime.datetime(2023, 1, 3, 12, 45, 14, tzinfo=datetime.timezone(datetime.timedelta(seconds=19800))),\n",
    " 'ctzoffset': '330',\n",
    " 'cuser_id': 37,\n",
    " 'deviceid': '75ad972a48f210dd',\n",
    " 'eventvalue': 'devicelogs',\n",
    " 'installedapps': '[Samsung Shop, Voice Recorder, Email, GPS Status, '\n",
    "                  'healthcare_application, Drive, ShareKaro, Google TV, '\n",
    "                  'ShareMe, Photos, Samsung Internet, Office, Calculator, '\n",
    "                  'Samsung Members, LinkedIn, Samsung Notes, Smart Switch, '\n",
    "                  'Intelliwiz, Smart Tutor, Intelliwiz 2.0]',\n",
    " 'islocationmocked': False,\n",
    " 'locationpermission': 'locationWhenInUse',\n",
    " 'locationserviceenabled': True,\n",
    " 'mdtz': datetime.datetime(2023, 1, 3, 12, 45, 14, tzinfo=datetime.timezone(datetime.timedelta(seconds=19800))),\n",
    " 'modelname': 'SM-M015G',\n",
    " 'muser_id': 37,\n",
    " 'networkprovidername': 'none',\n",
    " 'people_id': 37,\n",
    " 'platformversion': 'Android 12',\n",
    " 'signalbandwidth': 'High',\n",
    " 'signalstrength': 'High',\n",
    " 'stepcount': '0',\n",
    " 'uuid': '274fa98e-6d95-19d5-9234-0123456789ab'}"
   ]
  },
  {
   "cell_type": "code",
   "execution_count": 5,
   "id": "5aa26098",
   "metadata": {},
   "outputs": [
    {
     "data": {
      "text/plain": [
       "<DeviceEventlog: 75ad972a48f210dd devicelogs>"
      ]
     },
     "execution_count": 5,
     "metadata": {},
     "output_type": "execute_result"
    }
   ],
   "source": [
    "DeviceEventlog(**kwargs)"
   ]
  },
  {
   "cell_type": "code",
   "execution_count": 6,
   "id": "065a7146",
   "metadata": {},
   "outputs": [
    {
     "data": {
      "text/plain": [
       "datetime.date(2023, 1, 4)"
      ]
     },
     "execution_count": 6,
     "metadata": {},
     "output_type": "execute_result"
    }
   ],
   "source": [
    "datetime.datetime.today().date()"
   ]
  },
  {
   "cell_type": "code",
   "execution_count": 17,
   "id": "c9dddc98",
   "metadata": {},
   "outputs": [],
   "source": [
    "assignedsite_ids = Pgbelonging.objects.get_assigned_sites_to_people(\n",
    "            8).values_list(\"buid\", flat=True)"
   ]
  },
  {
   "cell_type": "code",
   "execution_count": 11,
   "id": "4cecc50a",
   "metadata": {},
   "outputs": [],
   "source": [
    "pd1 = '2022-10-01'\n",
    "pd2 = '2022-12-31'"
   ]
  },
  {
   "cell_type": "code",
   "execution_count": 20,
   "id": "97408595",
   "metadata": {},
   "outputs": [],
   "source": [
    "\n",
    "qset = Jobneed.objects.filter(\n",
    "            Q(Q(parent_id__in = [1, -1]) | Q(parent_id__isnull=True)),\n",
    "            bu_id__in = list(assignedsite_ids),\n",
    "            identifier = 'INCIDENTREPORT',\n",
    "            plandatetime__date__gte = pd1,\n",
    "            plandatetime__date__lte = pd2,\n",
    "        )"
   ]
  },
  {
   "cell_type": "code",
   "execution_count": 23,
   "id": "a5a895bb",
   "metadata": {},
   "outputs": [
    {
     "data": {
      "text/plain": [
       "'SELECT \"jobneed\".\"id\", \"jobneed\".\"tenant_id\", \"jobneed\".\"cuser_id\", \"jobneed\".\"muser_id\", \"jobneed\".\"cdtz\", \"jobneed\".\"mdtz\", \"jobneed\".\"ctzoffset\", \"jobneed\".\"uuid\", \"jobneed\".\"jobdesc\", \"jobneed\".\"plandatetime\", \"jobneed\".\"expirydatetime\", \"jobneed\".\"gracetime\", \"jobneed\".\"receivedonserver\", \"jobneed\".\"starttime\", \"jobneed\".\"endtime\", \"jobneed\".\"gpslocation\"::bytea, \"jobneed\".\"remarks\", \"jobneed\".\"asset_id\", \"jobneed\".\"frequency\", \"jobneed\".\"job_id\", \"jobneed\".\"jobstatus\", \"jobneed\".\"jobtype\", \"jobneed\".\"performedby_id\", \"jobneed\".\"priority\", \"jobneed\".\"qset_id\", \"jobneed\".\"scantype\", \"jobneed\".\"people_id\", \"jobneed\".\"pgroup_id\", \"jobneed\".\"sgroup_id\", \"jobneed\".\"identifier\", \"jobneed\".\"parent_id\", \"jobneed\".\"alerts\", \"jobneed\".\"seqno\", \"jobneed\".\"client_id\", \"jobneed\".\"bu_id\", \"jobneed\".\"ticketcategory_id\", \"jobneed\".\"othersite\", \"jobneed\".\"multifactor\", \"jobneed\".\"raisedby\", \"jobneed\".\"raisedtktflag\", \"jobneed\".\"ismailsent\", \"jobneed\".\"attachmentcount\", \"jobneed\".\"other_info\", \"jobneed\".\"geojson\", \"jobneed\".\"deviation\" FROM \"jobneed\" WHERE ((\"jobneed\".\"parent_id\" IN (1, -1) OR \"jobneed\".\"parent_id\" IS NULL) AND \"jobneed\".\"bu_id\" IN (1, 31, 32, 33, 28, 26, 29, 10, 7, 19, 9, 23, 8, 35, 36, 37, 38, 39, 27, 40, 41, 42, 43, 44, 45) AND \"jobneed\".\"identifier\" = INCIDENTREPORT AND (\"jobneed\".\"plandatetime\" AT TIME ZONE \\'Asia/Kolkata\\')::date >= 2022-10-01 AND (\"jobneed\".\"plandatetime\" AT TIME ZONE \\'Asia/Kolkata\\')::date <= 2022-12-31) ORDER BY \"jobneed\".\"mdtz\" ASC'"
      ]
     },
     "execution_count": 23,
     "metadata": {},
     "output_type": "execute_result"
    }
   ],
   "source": [
    "str(qset.query)"
   ]
  },
  {
   "cell_type": "code",
   "execution_count": null,
   "id": "79b3bd5a",
   "metadata": {},
   "outputs": [],
   "source": []
  }
 ],
 "metadata": {
  "kernelspec": {
   "display_name": "Django Shell-Plus",
   "language": "python",
   "name": "django_extensions"
  },
  "language_info": {
   "codemirror_mode": {
    "name": "ipython",
    "version": 3
   },
   "file_extension": ".py",
   "mimetype": "text/x-python",
   "name": "python",
   "nbconvert_exporter": "python",
   "pygments_lexer": "ipython3",
   "version": "3.10.6"
  }
 },
 "nbformat": 4,
 "nbformat_minor": 5
}
