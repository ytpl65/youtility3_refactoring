{
 "cells": [
  {
   "cell_type": "code",
   "execution_count": 1,
   "id": "e95278fd",
   "metadata": {},
   "outputs": [],
   "source": [
    "import os\n",
    "import django\n",
    "os.environ.setdefault('DJANGO_SETTINGS_MODULE', 'intelliwiz_config.settings')\n",
    "os.environ[\"DJANGO_ALLOW_ASYNC_UNSAFE\"] = \"true\"\n",
    "django.setup()\n",
    "    \n"
   ]
  },
  {
   "cell_type": "code",
   "execution_count": 18,
   "id": "d5cc7a33",
   "metadata": {},
   "outputs": [],
   "source": [
    "from apps.activity.models import Asset, Attachment, Device, DeviceEventlog, EscalationMatrix, Event, Job, Jobneed, JobneedDetails, Question, QuestionSet, QuestionSetBelonging, Ticket, WorkPermit\n",
    "from apps.attendance.models import PeopleEventlog, TestGeo, Tracking\n",
    "from apps.onboarding.models import Bt, Contract, ContractDetail, GeofenceMaster, Shift, SitePeople, TypeAssist, WizardDraft\n",
    "from apps.peoples.models import Capability, People, PermissionGroup, Pgbelonging, Pgroup\n",
    "from apps.tenants.models import Tenant\n",
    "from django.contrib.admin.models import LogEntry\n",
    "from django.contrib.auth.models import Group, Permission\n",
    "from django.contrib.contenttypes.models import ContentType\n",
    "from django.contrib.sessions.models import Session\n",
    "from django_celery_beat.models import ClockedSchedule, CrontabSchedule, IntervalSchedule, PeriodicTask, PeriodicTasks, SolarSchedule\n",
    "from django_celery_results.models import ChordCounter, GroupResult, TaskResult\n",
    "from graphql_jwt.refresh_token.models import RefreshToken\n",
    "# Shell Plus Django Imports\n",
    "from django.core.cache import cache\n",
    "from django.conf import settings\n",
    "from django.contrib.auth import get_user_model\n",
    "from django.db import transaction\n",
    "from django.db.models import Avg, Case, Count, F, Max, Min, Prefetch, Q, Sum, When\n",
    "from django.utils import timezone\n",
    "from django.urls import reverse\n",
    "from django.db.models import Exists, OuterRef, Subquery, Value\n",
    "from django.db.models.functions import  ACos, Round, Cos, Radians, Concat\n",
    "from django.contrib.gis.db.models.functions import  Cast\n",
    "from django.contrib.gis.db.models.functions import Distance\n",
    "\n",
    "from django.db import models"
   ]
  },
  {
   "cell_type": "code",
   "execution_count": 29,
   "id": "b1efa3de",
   "metadata": {},
   "outputs": [],
   "source": [
    "attachment_count = Subquery(\n",
    "    Attachment.objects.filter(\n",
    "        owner = Cast(OuterRef('uuid'), output_field=models.CharField())\n",
    "    ).annotate(\n",
    "        att=Count('owner')\n",
    "    ).values('att')[:1]\n",
    ")"
   ]
  },
  {
   "cell_type": "code",
   "execution_count": 30,
   "id": "78563f7b",
   "metadata": {},
   "outputs": [],
   "source": [
    "distance_subquery = Subquery(\n",
    "    Jobneed.objects.annotate(\n",
    "         distance=Distance(\n",
    "            F('gpslocation'),\n",
    "            F('bu__gpslocation'),\n",
    "        )\n",
    "    ).values('distance')[:1]\n",
    ")\n"
   ]
  },
  {
   "cell_type": "code",
   "execution_count": 39,
   "id": "777b2455",
   "metadata": {},
   "outputs": [],
   "source": [
    "objs = Jobneed.objects.filter(\n",
    "    Q(qset_id=8189120226460922) | Q(qset_id=-1),\n",
    "    parent_id=-1,\n",
    "    bu_id__in=[7911418892911665, 7911435016799357],\n",
    "    plandatetime__gte='2022-12-19 18:30:00+00:00',\n",
    "    plandatetime__lte='2022-12-27 18:29:00+00:00',\n",
    ").annotate(\n",
    "    buname=Case(\n",
    "        When(\n",
    "            Q(othersite='') | Q(othersite__iexact='NONE'),\n",
    "            then=F('bu__buname')\n",
    "        ),\n",
    "        default=Concat(\n",
    "            Value('other location ['),\n",
    "            F('othersite'),\n",
    "            Value(']')\n",
    "        )\n",
    "    ),\n",
    "    att=attachment_count,\n",
    "    distance=Distance('gpslocation', 'bu__gpslocation')\n",
    ").order_by('-plandatetime').distinct()\n"
   ]
  },
  {
   "cell_type": "code",
   "execution_count": 28,
   "id": "f82c0b26",
   "metadata": {},
   "outputs": [
    {
     "data": {
      "text/plain": [
       "'SELECT DISTINCT \"jobneed\".\"id\", \"jobneed\".\"tenant_id\", \"jobneed\".\"cuser_id\", \"jobneed\".\"muser_id\", \"jobneed\".\"cdtz\", \"jobneed\".\"mdtz\", \"jobneed\".\"ctzoffset\", \"jobneed\".\"uuid\", \"jobneed\".\"jobdesc\", \"jobneed\".\"plandatetime\", \"jobneed\".\"expirydatetime\", \"jobneed\".\"gracetime\", \"jobneed\".\"receivedonserver\", \"jobneed\".\"starttime\", \"jobneed\".\"endtime\", \"jobneed\".\"gpslocation\"::bytea, \"jobneed\".\"remarks\", \"jobneed\".\"asset_id\", \"jobneed\".\"frequency\", \"jobneed\".\"job_id\", \"jobneed\".\"jobstatus\", \"jobneed\".\"jobtype\", \"jobneed\".\"performedby_id\", \"jobneed\".\"priority\", \"jobneed\".\"qset_id\", \"jobneed\".\"scantype\", \"jobneed\".\"people_id\", \"jobneed\".\"pgroup_id\", \"jobneed\".\"sgroup_id\", \"jobneed\".\"identifier\", \"jobneed\".\"parent_id\", \"jobneed\".\"alerts\", \"jobneed\".\"seqno\", \"jobneed\".\"client_id\", \"jobneed\".\"bu_id\", \"jobneed\".\"ticketcategory_id\", \"jobneed\".\"othersite\", \"jobneed\".\"multifactor\", \"jobneed\".\"raisedby\", \"jobneed\".\"raisedtktflag\", \"jobneed\".\"ismailsent\", \"jobneed\".\"attachmentcount\", \"jobneed\".\"other_info\", \"jobneed\".\"deviation\", CASE WHEN (\"jobneed\".\"othersite\" =  OR UPPER(\"jobneed\".\"othersite\"::text) = UPPER(NONE)) THEN \"bt\".\"buname\" ELSE CONCAT(other location [, CONCAT(\"jobneed\".\"othersite\", ])) END AS \"buname\", (SELECT COUNT(U0.\"owner\") AS \"att\" FROM \"attachment\" U0 WHERE U0.\"owner\" = CAST(\"jobneed\".\"uuid\" AS varchar) GROUP BY U0.\"id\" LIMIT 1) AS \"att\", (SELECT ST_Distance(U0.\"gpslocation\", U1.\"gpslocation\") AS \"distance\" FROM \"jobneed\" U0 LEFT OUTER JOIN \"bt\" U1 ON (U0.\"bu_id\" = U1.\"id\") ORDER BY U0.\"mdtz\" ASC LIMIT 1) AS \"distance\" FROM \"jobneed\" INNER JOIN \"bt\" ON (\"jobneed\".\"bu_id\" = \"bt\".\"id\") WHERE ((\"jobneed\".\"qset_id\" = 8189120226460922 OR \"jobneed\".\"qset_id\" = -1) AND \"jobneed\".\"bu_id\" IN (7911418892911665, 7911435016799357) AND \"jobneed\".\"parent_id\" = -1 AND \"jobneed\".\"plandatetime\" >= 2022-12-19 18:30:00+00:00 AND \"jobneed\".\"plandatetime\" <= 2022-12-27 18:29:00+00:00) ORDER BY \"jobneed\".\"plandatetime\" DESC'"
      ]
     },
     "execution_count": 28,
     "metadata": {},
     "output_type": "execute_result"
    }
   ],
   "source": [
    "str(objs.query)"
   ]
  },
  {
   "cell_type": "code",
   "execution_count": 33,
   "id": "979584a5",
   "metadata": {},
   "outputs": [
    {
     "data": {
      "text/plain": [
       "<QuerySet [{'distance': None}, {'distance': Distance(m=85.63965419)}, {'distance': Distance(m=85.63965419)}, {'distance': Distance(m=88.61534557)}, {'distance': Distance(m=88.61534557)}, {'distance': Distance(m=8229720.69015695)}, {'distance': Distance(m=8230747.44174578)}, {'distance': Distance(m=8229635.86338824)}, {'distance': Distance(m=8229635.86338824)}, {'distance': Distance(m=8229720.69015695)}, {'distance': Distance(m=8229739.94971507)}, {'distance': Distance(m=8229739.94971507)}, {'distance': Distance(m=8230359.41890059)}, {'distance': Distance(m=8221442.12450649)}, {'distance': Distance(m=8229635.86338824)}, {'distance': Distance(m=8221442.12450649)}, {'distance': Distance(m=8229720.69015695)}, {'distance': Distance(m=8216202.59716735)}, {'distance': Distance(m=8229739.94971507)}, {'distance': Distance(m=8221442.12450649)}, '...(remaining elements truncated)...']>"
      ]
     },
     "execution_count": 33,
     "metadata": {},
     "output_type": "execute_result"
    }
   ],
   "source": [
    "Jobneed.objects.annotate(\n",
    "         distance=Distance(\n",
    "            F('gpslocation'),\n",
    "            F('bu__gpslocation'),\n",
    "        )\n",
    "    ).values('distance')"
   ]
  },
  {
   "cell_type": "code",
   "execution_count": 44,
   "id": "f06be0e9",
   "metadata": {},
   "outputs": [
    {
     "ename": "DoesNotExist",
     "evalue": "Jobneed matching query does not exist.",
     "output_type": "error",
     "traceback": [
      "\u001b[0;31m---------------------------------------------------------------------------\u001b[0m",
      "\u001b[0;31mDoesNotExist\u001b[0m                              Traceback (most recent call last)",
      "Input \u001b[0;32mIn [44]\u001b[0m, in \u001b[0;36m<cell line: 1>\u001b[0;34m()\u001b[0m\n\u001b[0;32m----> 1\u001b[0m j \u001b[38;5;241m=\u001b[39m \u001b[43mJobneed\u001b[49m\u001b[38;5;241;43m.\u001b[39;49m\u001b[43mobjects\u001b[49m\u001b[38;5;241;43m.\u001b[39;49m\u001b[43mget\u001b[49m\u001b[43m(\u001b[49m\u001b[38;5;28;43mid\u001b[39;49m\u001b[38;5;241;43m=\u001b[39;49m\u001b[38;5;241;43m1222\u001b[39;49m\u001b[43m,\u001b[49m\u001b[43m \u001b[49m\u001b[43midentifier\u001b[49m\u001b[38;5;241;43m=\u001b[39;49m\u001b[38;5;124;43m'\u001b[39;49m\u001b[38;5;124;43mSITEREPORT\u001b[39;49m\u001b[38;5;124;43m'\u001b[39;49m\u001b[43m)\u001b[49m\n",
      "File \u001b[0;32m~/envs/youtility4/lib/python3.10/site-packages/django/db/models/manager.py:85\u001b[0m, in \u001b[0;36mBaseManager._get_queryset_methods.<locals>.create_method.<locals>.manager_method\u001b[0;34m(self, *args, **kwargs)\u001b[0m\n\u001b[1;32m     84\u001b[0m \u001b[38;5;28;01mdef\u001b[39;00m \u001b[38;5;21mmanager_method\u001b[39m(\u001b[38;5;28mself\u001b[39m, \u001b[38;5;241m*\u001b[39margs, \u001b[38;5;241m*\u001b[39m\u001b[38;5;241m*\u001b[39mkwargs):\n\u001b[0;32m---> 85\u001b[0m     \u001b[38;5;28;01mreturn\u001b[39;00m \u001b[38;5;28;43mgetattr\u001b[39;49m\u001b[43m(\u001b[49m\u001b[38;5;28;43mself\u001b[39;49m\u001b[38;5;241;43m.\u001b[39;49m\u001b[43mget_queryset\u001b[49m\u001b[43m(\u001b[49m\u001b[43m)\u001b[49m\u001b[43m,\u001b[49m\u001b[43m \u001b[49m\u001b[43mname\u001b[49m\u001b[43m)\u001b[49m\u001b[43m(\u001b[49m\u001b[38;5;241;43m*\u001b[39;49m\u001b[43margs\u001b[49m\u001b[43m,\u001b[49m\u001b[43m \u001b[49m\u001b[38;5;241;43m*\u001b[39;49m\u001b[38;5;241;43m*\u001b[39;49m\u001b[43mkwargs\u001b[49m\u001b[43m)\u001b[49m\n",
      "File \u001b[0;32m~/envs/youtility4/lib/python3.10/site-packages/django/db/models/query.py:435\u001b[0m, in \u001b[0;36mQuerySet.get\u001b[0;34m(self, *args, **kwargs)\u001b[0m\n\u001b[1;32m    433\u001b[0m     \u001b[38;5;28;01mreturn\u001b[39;00m clone\u001b[38;5;241m.\u001b[39m_result_cache[\u001b[38;5;241m0\u001b[39m]\n\u001b[1;32m    434\u001b[0m \u001b[38;5;28;01mif\u001b[39;00m \u001b[38;5;129;01mnot\u001b[39;00m num:\n\u001b[0;32m--> 435\u001b[0m     \u001b[38;5;28;01mraise\u001b[39;00m \u001b[38;5;28mself\u001b[39m\u001b[38;5;241m.\u001b[39mmodel\u001b[38;5;241m.\u001b[39mDoesNotExist(\n\u001b[1;32m    436\u001b[0m         \u001b[38;5;124m\"\u001b[39m\u001b[38;5;132;01m%s\u001b[39;00m\u001b[38;5;124m matching query does not exist.\u001b[39m\u001b[38;5;124m\"\u001b[39m \u001b[38;5;241m%\u001b[39m\n\u001b[1;32m    437\u001b[0m         \u001b[38;5;28mself\u001b[39m\u001b[38;5;241m.\u001b[39mmodel\u001b[38;5;241m.\u001b[39m_meta\u001b[38;5;241m.\u001b[39mobject_name\n\u001b[1;32m    438\u001b[0m     )\n\u001b[1;32m    439\u001b[0m \u001b[38;5;28;01mraise\u001b[39;00m \u001b[38;5;28mself\u001b[39m\u001b[38;5;241m.\u001b[39mmodel\u001b[38;5;241m.\u001b[39mMultipleObjectsReturned(\n\u001b[1;32m    440\u001b[0m     \u001b[38;5;124m'\u001b[39m\u001b[38;5;124mget() returned more than one \u001b[39m\u001b[38;5;132;01m%s\u001b[39;00m\u001b[38;5;124m -- it returned \u001b[39m\u001b[38;5;132;01m%s\u001b[39;00m\u001b[38;5;124m!\u001b[39m\u001b[38;5;124m'\u001b[39m \u001b[38;5;241m%\u001b[39m (\n\u001b[1;32m    441\u001b[0m         \u001b[38;5;28mself\u001b[39m\u001b[38;5;241m.\u001b[39mmodel\u001b[38;5;241m.\u001b[39m_meta\u001b[38;5;241m.\u001b[39mobject_name,\n\u001b[1;32m    442\u001b[0m         num \u001b[38;5;28;01mif\u001b[39;00m \u001b[38;5;129;01mnot\u001b[39;00m limit \u001b[38;5;129;01mor\u001b[39;00m num \u001b[38;5;241m<\u001b[39m limit \u001b[38;5;28;01melse\u001b[39;00m \u001b[38;5;124m'\u001b[39m\u001b[38;5;124mmore than \u001b[39m\u001b[38;5;132;01m%s\u001b[39;00m\u001b[38;5;124m'\u001b[39m \u001b[38;5;241m%\u001b[39m (limit \u001b[38;5;241m-\u001b[39m \u001b[38;5;241m1\u001b[39m),\n\u001b[1;32m    443\u001b[0m     )\n\u001b[1;32m    444\u001b[0m )\n",
      "\u001b[0;31mDoesNotExist\u001b[0m: Jobneed matching query does not exist."
     ]
    }
   ],
   "source": [
    "j = Jobneed.objects.get(id=1222, identifier='SITEREPORT')\n"
   ]
  },
  {
   "cell_type": "code",
   "execution_count": 42,
   "id": "061cd8e9",
   "metadata": {},
   "outputs": [
    {
     "data": {
      "text/plain": [
       "(0.0, 0.0)"
      ]
     },
     "execution_count": 42,
     "metadata": {},
     "output_type": "execute_result"
    }
   ],
   "source": [
    "j.gpslocation.coords\n"
   ]
  },
  {
   "cell_type": "code",
   "execution_count": 53,
   "id": "338e0312",
   "metadata": {},
   "outputs": [],
   "source": [
    "j = Jobneed.objects.filter(id__in= (1485,1486,1602,1601)).values('othersite','gpslocation', 'bu__buname')"
   ]
  },
  {
   "cell_type": "code",
   "execution_count": 58,
   "id": "1963ecb9",
   "metadata": {},
   "outputs": [
    {
     "data": {
      "text/plain": [
       "(19.2291773, 72.9856266)"
      ]
     },
     "execution_count": 58,
     "metadata": {},
     "output_type": "execute_result"
    }
   ],
   "source": []
  },
  {
   "cell_type": "code",
   "execution_count": null,
   "id": "5086d0a6",
   "metadata": {},
   "outputs": [],
   "source": []
  }
 ],
 "metadata": {
  "kernelspec": {
   "display_name": "Django Shell-Plus",
   "language": "python",
   "name": "django_extensions"
  },
  "language_info": {
   "codemirror_mode": {
    "name": "ipython",
    "version": 3
   },
   "file_extension": ".py",
   "mimetype": "text/x-python",
   "name": "python",
   "nbconvert_exporter": "python",
   "pygments_lexer": "ipython3",
   "version": "3.10.6"
  }
 },
 "nbformat": 4,
 "nbformat_minor": 5
}
