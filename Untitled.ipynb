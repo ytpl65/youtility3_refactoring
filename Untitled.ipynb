{
 "cells": [
  {
   "cell_type": "markdown",
   "id": "603b848e",
   "metadata": {},
   "source": [
    "### Set up django env"
   ]
  },
  {
   "cell_type": "code",
   "execution_count": 13,
   "id": "e95278fd",
   "metadata": {},
   "outputs": [],
   "source": [
    "import os\n",
    "import django\n",
    "os.environ.setdefault('DJANGO_SETTINGS_MODULE', 'intelliwiz_config.settings')\n",
    "os.environ[\"DJANGO_ALLOW_ASYNC_UNSAFE\"] = \"true\"\n",
    "django.setup()\n",
    "    \n"
   ]
  },
  {
   "cell_type": "markdown",
   "id": "f9ce741c",
   "metadata": {},
   "source": [
    "### Import required modules"
   ]
  },
  {
   "cell_type": "code",
   "execution_count": 14,
   "id": "d5cc7a33",
   "metadata": {},
   "outputs": [],
   "source": [
    "from apps.activity.models import Asset, Attachment, Device, DeviceEventlog, EscalationMatrix, Event, Job, Jobneed, JobneedDetails, Question, QuestionSet, QuestionSetBelonging, Ticket, WorkPermit\n",
    "from apps.attendance.models import PeopleEventlog, TestGeo, Tracking\n",
    "from apps.onboarding.models import Bt, Contract, ContractDetail, GeofenceMaster, Shift, SitePeople, TypeAssist, WizardDraft\n",
    "from apps.peoples.models import Capability, People, PermissionGroup, Pgbelonging, Pgroup\n",
    "from apps.tenants.models import Tenant\n",
    "from django.contrib.admin.models import LogEntry\n",
    "from django.contrib.auth.models import Group, Permission\n",
    "from django.contrib.contenttypes.models import ContentType\n",
    "from django.contrib.sessions.models import Session\n",
    "# Shell Plus Django Imports\n",
    "from django.core.cache import cache\n",
    "from django.conf import settings\n",
    "from django.contrib.auth import get_user_model\n",
    "from django.db import transaction\n",
    "from django.db.models import Avg, Case, Count, F, Max, Min, Prefetch, Q, Sum, When\n",
    "\n",
    "from django.urls import reverse\n",
    "from django.db.models import Exists, OuterRef, Subquery, Value\n",
    "from django.db.models.functions import  ACos, Round, Cos, Radians, Concat\n",
    "from django.contrib.gis.db.models.functions import  Cast\n",
    "from django.contrib.gis.db.models.functions import Distance, AsGeoJSON\n",
    "from django.db import models"
   ]
  },
  {
   "cell_type": "code",
   "execution_count": 9,
   "id": "546991c4",
   "metadata": {},
   "outputs": [],
   "source": [
    "from datetime import datetime, timedelta, timezone"
   ]
  },
  {
   "cell_type": "code",
   "execution_count": 6,
   "id": "e433f616",
   "metadata": {},
   "outputs": [],
   "source": [
    "kwargs =  {'accuracy': '17.041000366210938',\n",
    " 'altitude': '-49.89999771118164',\n",
    " 'applicationversion': '1.0.0',\n",
    " 'availextmemory': '0',\n",
    " 'availintmemory': '0',\n",
    " 'batterylevel': '100%',\n",
    " 'bu_id': 6,\n",
    " 'cdtz': datetime.datetime(2023, 1, 3, 12, 45, 14, tzinfo=datetime.timezone(datetime.timedelta(seconds=19800))),\n",
    " 'ctzoffset': '330',\n",
    " 'cuser_id': 37,\n",
    " 'deviceid': '75ad972a48f210dd',\n",
    " 'eventvalue': 'devicelogs',\n",
    " 'installedapps': '[Samsung Shop, Voice Recorder, Email, GPS Status, '\n",
    "                  'healthcare_application, Drive, ShareKaro, Google TV, '\n",
    "                  'ShareMe, Photos, Samsung Internet, Office, Calculator, '\n",
    "                  'Samsung Members, LinkedIn, Samsung Notes, Smart Switch, '\n",
    "                  'Intelliwiz, Smart Tutor, Intelliwiz 2.0]',\n",
    " 'islocationmocked': False,\n",
    " 'locationpermission': 'locationWhenInUse',\n",
    " 'locationserviceenabled': True,\n",
    " 'mdtz': datetime.datetime(2023, 1, 3, 12, 45, 14, tzinfo=datetime.timezone(datetime.timedelta(seconds=19800))),\n",
    " 'modelname': 'SM-M015G',\n",
    " 'muser_id': 37,\n",
    " 'networkprovidername': 'none',\n",
    " 'people_id': 37,\n",
    " 'platformversion': 'Android 12',\n",
    " 'signalbandwidth': 'High',\n",
    " 'signalstrength': 'High',\n",
    " 'stepcount': '0',\n",
    " 'uuid': '274fa98e-6d95-19d5-9234-0123456789ab'}"
   ]
  },
  {
   "cell_type": "code",
   "execution_count": 7,
   "id": "5aa26098",
   "metadata": {},
   "outputs": [
    {
     "data": {
      "text/plain": [
       "<DeviceEventlog: 75ad972a48f210dd devicelogs>"
      ]
     },
     "execution_count": 7,
     "metadata": {},
     "output_type": "execute_result"
    }
   ],
   "source": [
    "DeviceEventlog(**kwargs)"
   ]
  },
  {
   "cell_type": "code",
   "execution_count": 6,
   "id": "065a7146",
   "metadata": {},
   "outputs": [
    {
     "data": {
      "text/plain": [
       "datetime.date(2023, 1, 4)"
      ]
     },
     "execution_count": 6,
     "metadata": {},
     "output_type": "execute_result"
    }
   ],
   "source": [
    "datetime.datetime.today().date()"
   ]
  },
  {
   "cell_type": "code",
   "execution_count": 20,
   "id": "c9dddc98",
   "metadata": {},
   "outputs": [],
   "source": [
    "assignedsite_ids = Pgbelonging.objects.get_assigned_sites_to_people(\n",
    "            8).values_list(\"buid\", flat=True)"
   ]
  },
  {
   "cell_type": "code",
   "execution_count": 22,
   "id": "413e8d21",
   "metadata": {},
   "outputs": [
    {
     "data": {
      "text/plain": [
       "126"
      ]
     },
     "execution_count": 22,
     "metadata": {},
     "output_type": "execute_result"
    }
   ],
   "source": [
    "Jobneed.objects.filter(\n",
    "            bu_id__in = assignedsite_ids,\n",
    "            plandatetime__date__gte = pd1,\n",
    "            plandatetime__date__lte = pd2,\n",
    "            parent_id = 1,\n",
    "            identifier='EXTERNALTOUR'\n",
    "        ).count()"
   ]
  },
  {
   "cell_type": "code",
   "execution_count": 5,
   "id": "45da8642",
   "metadata": {},
   "outputs": [],
   "source": [
    "qsets = QuestionSet.objects.filter(type='CHECKLIST').exclude(questionsetbelonging=None)\n"
   ]
  },
  {
   "cell_type": "code",
   "execution_count": 10,
   "id": "dc6e1816",
   "metadata": {},
   "outputs": [
    {
     "name": "stdout",
     "output_type": "stream",
     "text": [
      "new site checklist <QuerySet [<QuestionSetBelonging: MULTILINE>]>\n",
      "testNewChecklistCheckingUpdated <QuerySet [<QuestionSetBelonging: DROPDOWN>, <QuestionSetBelonging: NUMERIC>]>\n",
      "testNewChecklistUPdated <QuerySet [<QuestionSetBelonging: MULTILINE>]>\n",
      "testChecklistNov30 <QuerySet [<QuestionSetBelonging: NUMERIC>, <QuestionSetBelonging: DROPDOWN>]>\n",
      "Basic Checklist <QuerySet [<QuestionSetBelonging: DATE>, <QuestionSetBelonging: SINGLELINE>, <QuestionSetBelonging: DROPDOWN>]>\n",
      "Checklist-1 <QuerySet [<QuestionSetBelonging: MULTILINE>, <QuestionSetBelonging: DROPDOWN>, <QuestionSetBelonging: NUMERIC>, <QuestionSetBelonging: EMAILID>]>\n",
      "GATE CHECKLIST <QuerySet [<QuestionSetBelonging: TIME>, <QuestionSetBelonging: DROPDOWN>, <QuestionSetBelonging: NUMERIC>, <QuestionSetBelonging: DROPDOWN>]>\n",
      "site checklist <QuerySet [<QuestionSetBelonging: DATE>, <QuestionSetBelonging: SIGNATURE>, <QuestionSetBelonging: CHECKBOX>]>\n"
     ]
    }
   ],
   "source": [
    "for qset in qsets:\n",
    "    print(qset.qsetname, qset.questionsetbelonging_set.all())"
   ]
  },
  {
   "cell_type": "code",
   "execution_count": 12,
   "id": "d5bd26b8",
   "metadata": {},
   "outputs": [
    {
     "data": {
      "text/plain": [
       "['__and__',\n",
       " '__bool__',\n",
       " '__class__',\n",
       " '__class_getitem__',\n",
       " '__deepcopy__',\n",
       " '__delattr__',\n",
       " '__dict__',\n",
       " '__dir__',\n",
       " '__doc__',\n",
       " '__eq__',\n",
       " '__format__',\n",
       " '__ge__',\n",
       " '__getattribute__',\n",
       " '__getitem__',\n",
       " '__getstate__',\n",
       " '__gt__',\n",
       " '__hash__',\n",
       " '__init__',\n",
       " '__init_subclass__',\n",
       " '__iter__',\n",
       " '__le__',\n",
       " '__len__',\n",
       " '__lt__',\n",
       " '__module__',\n",
       " '__ne__',\n",
       " '__new__',\n",
       " '__or__',\n",
       " '__reduce__',\n",
       " '__reduce_ex__',\n",
       " '__repr__',\n",
       " '__setattr__',\n",
       " '__setstate__',\n",
       " '__sizeof__',\n",
       " '__str__',\n",
       " '__subclasshook__',\n",
       " '__weakref__',\n",
       " '_add_hints',\n",
       " '_annotate',\n",
       " '_batched_insert',\n",
       " '_chain',\n",
       " '_clone',\n",
       " '_combinator_query',\n",
       " '_db',\n",
       " '_defer_next_filter',\n",
       " '_deferred_filter',\n",
       " '_earliest',\n",
       " '_extract_model_params',\n",
       " '_fetch_all',\n",
       " '_fields',\n",
       " '_filter_or_exclude',\n",
       " '_filter_or_exclude_inplace',\n",
       " '_for_write',\n",
       " '_has_filters',\n",
       " '_hints',\n",
       " '_insert',\n",
       " '_iterable_class',\n",
       " '_iterator',\n",
       " '_known_related_objects',\n",
       " '_merge_known_related_objects',\n",
       " '_merge_sanity_check',\n",
       " '_next_is_sticky',\n",
       " '_not_support_combined_queries',\n",
       " '_prefetch_done',\n",
       " '_prefetch_related_lookups',\n",
       " '_prefetch_related_objects',\n",
       " '_prepare_for_bulk_create',\n",
       " '_query',\n",
       " '_raw_delete',\n",
       " '_result_cache',\n",
       " '_sticky_filter',\n",
       " '_update',\n",
       " '_validate_values_are_expressions',\n",
       " '_values',\n",
       " 'aggregate',\n",
       " 'alias',\n",
       " 'all',\n",
       " 'annotate',\n",
       " 'as_manager',\n",
       " 'bulk_create',\n",
       " 'bulk_update',\n",
       " 'complex_filter',\n",
       " 'count',\n",
       " 'create',\n",
       " 'dates',\n",
       " 'datetimes',\n",
       " 'db',\n",
       " 'defer',\n",
       " 'delete',\n",
       " 'difference',\n",
       " 'distinct',\n",
       " 'earliest',\n",
       " 'exclude',\n",
       " 'exists',\n",
       " 'explain',\n",
       " 'extra',\n",
       " 'filter',\n",
       " 'first',\n",
       " 'get',\n",
       " 'get_or_create',\n",
       " 'in_bulk',\n",
       " 'intersection',\n",
       " 'iterator',\n",
       " 'last',\n",
       " 'latest',\n",
       " 'model',\n",
       " 'none',\n",
       " 'only',\n",
       " 'order_by',\n",
       " 'ordered',\n",
       " 'prefetch_related',\n",
       " 'query',\n",
       " 'raw',\n",
       " 'resolve_expression',\n",
       " 'reverse',\n",
       " 'select_for_update',\n",
       " 'select_related',\n",
       " 'union',\n",
       " 'update',\n",
       " 'update_or_create',\n",
       " 'using',\n",
       " 'values',\n",
       " 'values_list']"
      ]
     },
     "execution_count": 12,
     "metadata": {},
     "output_type": "execute_result"
    }
   ],
   "source": [
    "dir(qsets)"
   ]
  },
  {
   "cell_type": "code",
   "execution_count": 13,
   "id": "3c8aaa0f",
   "metadata": {},
   "outputs": [
    {
     "data": {
      "text/plain": [
       "'SELECT \"questionset\".\"id\", \"questionset\".\"tenant_id\", \"questionset\".\"cuser_id\", \"questionset\".\"muser_id\", \"questionset\".\"cdtz\", \"questionset\".\"mdtz\", \"questionset\".\"ctzoffset\", \"questionset\".\"qsetname\", \"questionset\".\"enable\", \"questionset\".\"assetincludes\", \"questionset\".\"buincludes\", \"questionset\".\"seqno\", \"questionset\".\"parent_id\", \"questionset\".\"type\", \"questionset\".\"bu_id\", \"questionset\".\"client_id\", \"questionset\".\"site_grp_includes\", \"questionset\".\"site_type_includes\", \"questionset\".\"url\" FROM \"questionset\" WHERE (\"questionset\".\"type\" = CHECKLIST AND NOT (EXISTS(SELECT (1) AS \"a\" FROM \"questionset\" U0 LEFT OUTER JOIN \"questionsetbelonging\" U1 ON (U0.\"id\" = U1.\"qset_id\") WHERE (U1.\"id\" IS NULL AND U0.\"id\" = \"questionset\".\"id\") LIMIT 1))) ORDER BY \"questionset\".\"mdtz\" ASC'"
      ]
     },
     "execution_count": 13,
     "metadata": {},
     "output_type": "execute_result"
    }
   ],
   "source": [
    "str(qsets.query)"
   ]
  },
  {
   "cell_type": "code",
   "execution_count": 10,
   "id": "f7f914b7",
   "metadata": {},
   "outputs": [],
   "source": [
    "tz = timezone(timedelta(minutes = 330))"
   ]
  },
  {
   "cell_type": "code",
   "execution_count": 12,
   "id": "04cf96dd",
   "metadata": {},
   "outputs": [
    {
     "data": {
      "text/plain": [
       "datetime.timezone(datetime.timedelta(seconds=19800))"
      ]
     },
     "execution_count": 12,
     "metadata": {},
     "output_type": "execute_result"
    }
   ],
   "source": [
    "tz"
   ]
  },
  {
   "cell_type": "code",
   "execution_count": 15,
   "id": "9dbde803",
   "metadata": {},
   "outputs": [
    {
     "ename": "TypeError",
     "evalue": "the JSON object must be str, bytes or bytearray, not list",
     "output_type": "error",
     "traceback": [
      "\u001b[0;31m---------------------------------------------------------------------------\u001b[0m",
      "\u001b[0;31mTypeError\u001b[0m                                 Traceback (most recent call last)",
      "Input \u001b[0;32mIn [15]\u001b[0m, in \u001b[0;36m<cell line: 1>\u001b[0;34m()\u001b[0m\n\u001b[0;32m----> 1\u001b[0m \u001b[43mBt\u001b[49m\u001b[38;5;241;43m.\u001b[39;49m\u001b[43mobjects\u001b[49m\u001b[38;5;241;43m.\u001b[39;49m\u001b[43mget_whole_tree\u001b[49m\u001b[43m(\u001b[49m\u001b[38;5;241;43m5\u001b[39;49m\u001b[43m)\u001b[49m\n",
      "File \u001b[0;32m~/youtility4_icici/apps/onboarding/managers.py:72\u001b[0m, in \u001b[0;36mBtManager.get_whole_tree\u001b[0;34m(self, clientid)\u001b[0m\n\u001b[1;32m     69\u001b[0m rtype \u001b[38;5;241m=\u001b[39m \u001b[38;5;124m'\u001b[39m\u001b[38;5;124mbigint[]\u001b[39m\u001b[38;5;124m'\u001b[39m\n\u001b[1;32m     70\u001b[0m qset_json \u001b[38;5;241m=\u001b[39m \u001b[38;5;28mself\u001b[39m\u001b[38;5;241m.\u001b[39mraw(\n\u001b[1;32m     71\u001b[0m     \u001b[38;5;124mf\u001b[39m\u001b[38;5;124m\"\u001b[39m\u001b[38;5;124mselect fn_get_bulist(\u001b[39m\u001b[38;5;132;01m{\u001b[39;00mclientid\u001b[38;5;132;01m}\u001b[39;00m\u001b[38;5;124m, true, true, \u001b[39m\u001b[38;5;124m'\u001b[39m\u001b[38;5;124marray\u001b[39m\u001b[38;5;124m'\u001b[39m\u001b[38;5;124m::text, null::\u001b[39m\u001b[38;5;132;01m{\u001b[39;00mrtype\u001b[38;5;132;01m}\u001b[39;00m\u001b[38;5;124m) as id;\u001b[39m\u001b[38;5;124m\"\u001b[39m)\n\u001b[0;32m---> 72\u001b[0m \u001b[38;5;28;01mreturn\u001b[39;00m \u001b[43mjson\u001b[49m\u001b[38;5;241;43m.\u001b[39;49m\u001b[43mloads\u001b[49m\u001b[43m(\u001b[49m\u001b[43mqset_json\u001b[49m\u001b[43m[\u001b[49m\u001b[38;5;241;43m0\u001b[39;49m\u001b[43m]\u001b[49m\u001b[38;5;241;43m.\u001b[39;49m\u001b[43mid\u001b[49m\u001b[43m \u001b[49m\u001b[38;5;28;43;01mif\u001b[39;49;00m\u001b[43m \u001b[49m\u001b[43mqset_json\u001b[49m\u001b[43m \u001b[49m\u001b[38;5;28;43;01melse\u001b[39;49;00m\u001b[43m \u001b[49m\u001b[38;5;124;43m'\u001b[39;49m\u001b[38;5;132;43;01m{}\u001b[39;49;00m\u001b[38;5;124;43m'\u001b[39;49m\u001b[43m)\u001b[49m\n",
      "File \u001b[0;32m/usr/lib/python3.10/json/__init__.py:339\u001b[0m, in \u001b[0;36mloads\u001b[0;34m(s, cls, object_hook, parse_float, parse_int, parse_constant, object_pairs_hook, **kw)\u001b[0m\n\u001b[1;32m    337\u001b[0m \u001b[38;5;28;01melse\u001b[39;00m:\n\u001b[1;32m    338\u001b[0m     \u001b[38;5;28;01mif\u001b[39;00m \u001b[38;5;129;01mnot\u001b[39;00m \u001b[38;5;28misinstance\u001b[39m(s, (\u001b[38;5;28mbytes\u001b[39m, \u001b[38;5;28mbytearray\u001b[39m)):\n\u001b[0;32m--> 339\u001b[0m         \u001b[38;5;28;01mraise\u001b[39;00m \u001b[38;5;167;01mTypeError\u001b[39;00m(\u001b[38;5;124mf\u001b[39m\u001b[38;5;124m'\u001b[39m\u001b[38;5;124mthe JSON object must be str, bytes or bytearray, \u001b[39m\u001b[38;5;124m'\u001b[39m\n\u001b[1;32m    340\u001b[0m                         \u001b[38;5;124mf\u001b[39m\u001b[38;5;124m'\u001b[39m\u001b[38;5;124mnot \u001b[39m\u001b[38;5;132;01m{\u001b[39;00ms\u001b[38;5;241m.\u001b[39m\u001b[38;5;18m__class__\u001b[39m\u001b[38;5;241m.\u001b[39m\u001b[38;5;18m__name__\u001b[39m\u001b[38;5;132;01m}\u001b[39;00m\u001b[38;5;124m'\u001b[39m)\n\u001b[1;32m    341\u001b[0m     s \u001b[38;5;241m=\u001b[39m s\u001b[38;5;241m.\u001b[39mdecode(detect_encoding(s), \u001b[38;5;124m'\u001b[39m\u001b[38;5;124msurrogatepass\u001b[39m\u001b[38;5;124m'\u001b[39m)\n\u001b[1;32m    343\u001b[0m \u001b[38;5;28;01mif\u001b[39;00m (\u001b[38;5;28mcls\u001b[39m \u001b[38;5;129;01mis\u001b[39;00m \u001b[38;5;28;01mNone\u001b[39;00m \u001b[38;5;129;01mand\u001b[39;00m object_hook \u001b[38;5;129;01mis\u001b[39;00m \u001b[38;5;28;01mNone\u001b[39;00m \u001b[38;5;129;01mand\u001b[39;00m\n\u001b[1;32m    344\u001b[0m         parse_int \u001b[38;5;129;01mis\u001b[39;00m \u001b[38;5;28;01mNone\u001b[39;00m \u001b[38;5;129;01mand\u001b[39;00m parse_float \u001b[38;5;129;01mis\u001b[39;00m \u001b[38;5;28;01mNone\u001b[39;00m \u001b[38;5;129;01mand\u001b[39;00m\n\u001b[1;32m    345\u001b[0m         parse_constant \u001b[38;5;129;01mis\u001b[39;00m \u001b[38;5;28;01mNone\u001b[39;00m \u001b[38;5;129;01mand\u001b[39;00m object_pairs_hook \u001b[38;5;129;01mis\u001b[39;00m \u001b[38;5;28;01mNone\u001b[39;00m \u001b[38;5;129;01mand\u001b[39;00m \u001b[38;5;129;01mnot\u001b[39;00m kw):\n",
      "\u001b[0;31mTypeError\u001b[0m: the JSON object must be str, bytes or bytearray, not list"
     ]
    }
   ],
   "source": [
    "Bt.objects.get_whole_tree(5)"
   ]
  },
  {
   "cell_type": "code",
   "execution_count": null,
   "id": "f2f7245e",
   "metadata": {},
   "outputs": [],
   "source": []
  }
 ],
 "metadata": {
  "kernelspec": {
   "display_name": "Django Shell-Plus",
   "language": "python",
   "name": "django_extensions"
  },
  "language_info": {
   "codemirror_mode": {
    "name": "ipython",
    "version": 3
   },
   "file_extension": ".py",
   "mimetype": "text/x-python",
   "name": "python",
   "nbconvert_exporter": "python",
   "pygments_lexer": "ipython3",
   "version": "3.10.6"
  }
 },
 "nbformat": 4,
 "nbformat_minor": 5
}
