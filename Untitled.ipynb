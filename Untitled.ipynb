{
 "cells": [
  {
   "cell_type": "markdown",
   "id": "603b848e",
   "metadata": {},
   "source": [
    "### Set up django env"
   ]
  },
  {
   "cell_type": "code",
   "execution_count": 11,
   "id": "e95278fd",
   "metadata": {},
   "outputs": [],
   "source": [
    "import os\n",
    "import django\n",
    "os.environ.setdefault('DJANGO_SETTINGS_MODULE', 'intelliwiz_config.settings')\n",
    "os.environ[\"DJANGO_ALLOW_ASYNC_UNSAFE\"] = \"true\"\n",
    "django.setup()\n",
    "    \n",
    "\n",
    "    "
   ]
  },
  {
   "cell_type": "markdown",
   "id": "f9ce741c",
   "metadata": {},
   "source": [
    "### Import required modules"
   ]
  },
  {
   "cell_type": "code",
   "execution_count": 12,
   "id": "d5cc7a33",
   "metadata": {},
   "outputs": [],
   "source": [
    "from apps.activity.models import Asset, Attachment, Device, DeviceEventlog, EscalationMatrix, Event, Job, Jobneed, JobneedDetails, Question, QuestionSet, QuestionSetBelonging, Ticket, WorkPermit\n",
    "from apps.attendance.models import PeopleEventlog, TestGeo, Tracking\n",
    "from apps.onboarding.models import Bt, Contract, ContractDetail, GeofenceMaster, Shift, SitePeople, TypeAssist, WizardDraft\n",
    "from apps.peoples.models import Capability, People, PermissionGroup, Pgbelonging, Pgroup\n",
    "from apps.tenants.models import Tenant\n",
    "from django.contrib.admin.models import LogEntry\n",
    "from django.contrib.auth.models import Group, Permission\n",
    "from django.contrib.contenttypes.models import ContentType\n",
    "from django.contrib.sessions.models import Session\n",
    "# Shell Plus Django Imports\n",
    "from django.core.cache import cache\n",
    "from django.conf import settings\n",
    "from django.contrib.auth import get_user_model\n",
    "from django.db import transaction\n",
    "from django.db.models import Avg, Case, Count, F, Max, Min, Prefetch, Q, Sum, When\n",
    "\n",
    "from django.urls import reverse\n",
    "from django.db.models import Exists, OuterRef, Subquery, Value\n",
    "from django.db.models.functions import  ACos, Round, Cos, Radians, Concat\n",
    "from django.contrib.gis.db.models.functions import  Cast\n",
    "from django.contrib.gis.db.models.functions import Distance, AsGeoJSON\n",
    "from django.db import models\n",
    "import requests"
   ]
  },
  {
   "cell_type": "code",
   "execution_count": 13,
   "id": "546991c4",
   "metadata": {},
   "outputs": [],
   "source": [
    "from datetime import datetime, timedelta, timezone"
   ]
  },
  {
   "cell_type": "code",
   "execution_count": 59,
   "id": "1711b294",
   "metadata": {},
   "outputs": [],
   "source": [
    "import rt.rest2\n",
    "\n",
    "api_url = 'https://rt.youtility.in/REST/2.0/'\n",
    "username = 'root'\n",
    "\n",
    "password = 'password'\n",
    "c = rt.rest2.Rt(url=api_url, http_auth=requests.auth.HTTPBasicAuth('root', 'password'))"
   ]
  },
  {
   "cell_type": "code",
   "execution_count": 60,
   "id": "8ebf014d",
   "metadata": {},
   "outputs": [
    {
     "ename": "AuthorizationError",
     "evalue": "Server could not verify that you are authorized to access the requested document.",
     "output_type": "error",
     "traceback": [
      "\u001b[0;31m---------------------------------------------------------------------------\u001b[0m",
      "\u001b[0;31mAuthorizationError\u001b[0m                        Traceback (most recent call last)",
      "Input \u001b[0;32mIn [60]\u001b[0m, in \u001b[0;36m<cell line: 3>\u001b[0;34m()\u001b[0m\n\u001b[1;32m      1\u001b[0m new_ticket \u001b[38;5;241m=\u001b[39m {\u001b[38;5;124m'\u001b[39m\u001b[38;5;124mRequestor\u001b[39m\u001b[38;5;124m'\u001b[39m: [\u001b[38;5;124m'\u001b[39m\u001b[38;5;124mroot@localhost\u001b[39m\u001b[38;5;124m'\u001b[39m],\n\u001b[1;32m      2\u001b[0m               }\n\u001b[0;32m----> 3\u001b[0m res \u001b[38;5;241m=\u001b[39m \u001b[43mc\u001b[49m\u001b[38;5;241;43m.\u001b[39;49m\u001b[43mcreate_ticket\u001b[49m\u001b[43m(\u001b[49m\u001b[38;5;124;43m'\u001b[39;49m\u001b[38;5;124;43mGeneral\u001b[39;49m\u001b[38;5;124;43m'\u001b[39;49m\u001b[43m,\u001b[49m\n\u001b[1;32m      4\u001b[0m \u001b[43m                      \u001b[49m\u001b[43msubject\u001b[49m\u001b[38;5;241;43m=\u001b[39;49m\u001b[38;5;124;43m'\u001b[39;49m\u001b[38;5;124;43mTest subject\u001b[39;49m\u001b[38;5;124;43m'\u001b[39;49m\u001b[43m,\u001b[49m\n\u001b[1;32m      5\u001b[0m \u001b[43m                      \u001b[49m\u001b[43mcontent\u001b[49m\u001b[38;5;241;43m=\u001b[39;49m\u001b[38;5;124;43m'\u001b[39;49m\u001b[38;5;124;43mTicket body...\u001b[39;49m\u001b[38;5;124;43m'\u001b[39;49m\u001b[43m,\u001b[49m\n\u001b[1;32m      6\u001b[0m \u001b[43m                      \u001b[49m\u001b[38;5;241;43m*\u001b[39;49m\u001b[38;5;241;43m*\u001b[39;49m\u001b[43mnew_ticket\u001b[49m\n\u001b[1;32m      7\u001b[0m \u001b[43m                      \u001b[49m\u001b[43m)\u001b[49m\n",
      "File \u001b[0;32m~/envs/youtility4/lib/python3.10/site-packages/rt/rest2.py:617\u001b[0m, in \u001b[0;36mRt.create_ticket\u001b[0;34m(self, queue, content_type, subject, content, attachments, **kwargs)\u001b[0m\n\u001b[1;32m    614\u001b[0m \u001b[38;5;28;01mfor\u001b[39;00m k, v \u001b[38;5;129;01min\u001b[39;00m kwargs\u001b[38;5;241m.\u001b[39mitems():\n\u001b[1;32m    615\u001b[0m     ticket_data[k] \u001b[38;5;241m=\u001b[39m v\n\u001b[0;32m--> 617\u001b[0m res \u001b[38;5;241m=\u001b[39m \u001b[38;5;28;43mself\u001b[39;49m\u001b[38;5;241;43m.\u001b[39;49m\u001b[43m__request\u001b[49m\u001b[43m(\u001b[49m\u001b[38;5;124;43m'\u001b[39;49m\u001b[38;5;124;43mticket\u001b[39;49m\u001b[38;5;124;43m'\u001b[39;49m\u001b[43m,\u001b[49m\u001b[43m \u001b[49m\u001b[43mjson_data\u001b[49m\u001b[38;5;241;43m=\u001b[39;49m\u001b[43mticket_data\u001b[49m\u001b[43m,\u001b[49m\u001b[43m \u001b[49m\u001b[43mattachments\u001b[49m\u001b[38;5;241;43m=\u001b[39;49m\u001b[43mattachments\u001b[49m\u001b[43m)\u001b[49m\n\u001b[1;32m    619\u001b[0m \u001b[38;5;28;01mif\u001b[39;00m \u001b[38;5;129;01mnot\u001b[39;00m \u001b[38;5;28misinstance\u001b[39m(res, \u001b[38;5;28mdict\u001b[39m):  \u001b[38;5;66;03m# pragma: no cover\u001b[39;00m\n\u001b[1;32m    620\u001b[0m     \u001b[38;5;28;01mraise\u001b[39;00m UnexpectedResponseError(\u001b[38;5;28mstr\u001b[39m(res))\n",
      "File \u001b[0;32m~/envs/youtility4/lib/python3.10/site-packages/rt/rest2.py:199\u001b[0m, in \u001b[0;36mRt.__request\u001b[0;34m(self, selector, get_params, json_data, post_data, attachments)\u001b[0m\n\u001b[1;32m    196\u001b[0m     response \u001b[38;5;241m=\u001b[39m \u001b[38;5;28mself\u001b[39m\u001b[38;5;241m.\u001b[39msession\u001b[38;5;241m.\u001b[39mpost(url, data\u001b[38;5;241m=\u001b[39mmultipart_data, headers\u001b[38;5;241m=\u001b[39m_headers, timeout\u001b[38;5;241m=\u001b[39m\u001b[38;5;28mself\u001b[39m\u001b[38;5;241m.\u001b[39mhttp_timeout)\n\u001b[1;32m    198\u001b[0m \u001b[38;5;28mself\u001b[39m\u001b[38;5;241m.\u001b[39m__debug_response(response)\n\u001b[0;32m--> 199\u001b[0m \u001b[38;5;28;43mself\u001b[39;49m\u001b[38;5;241;43m.\u001b[39;49m\u001b[43m__check_response\u001b[49m\u001b[43m(\u001b[49m\u001b[43mresponse\u001b[49m\u001b[43m)\u001b[49m\n\u001b[1;32m    201\u001b[0m \u001b[38;5;28;01mtry\u001b[39;00m:\n\u001b[1;32m    202\u001b[0m     result \u001b[38;5;241m=\u001b[39m response\u001b[38;5;241m.\u001b[39mjson()\n",
      "File \u001b[0;32m~/envs/youtility4/lib/python3.10/site-packages/rt/rest2.py:366\u001b[0m, in \u001b[0;36mRt.__check_response\u001b[0;34m(response)\u001b[0m\n\u001b[1;32m    363\u001b[0m     \u001b[38;5;28;01mraise\u001b[39;00m rt\u001b[38;5;241m.\u001b[39mexceptions\u001b[38;5;241m.\u001b[39mBadRequestError(ret)\n\u001b[1;32m    365\u001b[0m \u001b[38;5;28;01mif\u001b[39;00m response\u001b[38;5;241m.\u001b[39mstatus_code \u001b[38;5;241m==\u001b[39m \u001b[38;5;241m401\u001b[39m:  \u001b[38;5;66;03m# pragma: no cover\u001b[39;00m\n\u001b[0;32m--> 366\u001b[0m     \u001b[38;5;28;01mraise\u001b[39;00m AuthorizationError(\n\u001b[1;32m    367\u001b[0m         \u001b[38;5;124m'\u001b[39m\u001b[38;5;124mServer could not verify that you are authorized to access the requested document.\u001b[39m\u001b[38;5;124m'\u001b[39m)\n\u001b[1;32m    368\u001b[0m \u001b[38;5;28;01mif\u001b[39;00m response\u001b[38;5;241m.\u001b[39mstatus_code \u001b[38;5;241m==\u001b[39m \u001b[38;5;241m404\u001b[39m:\n\u001b[1;32m    369\u001b[0m     \u001b[38;5;28;01mraise\u001b[39;00m NotFoundError(\u001b[38;5;124m'\u001b[39m\u001b[38;5;124mNo such resource found.\u001b[39m\u001b[38;5;124m'\u001b[39m)\n",
      "\u001b[0;31mAuthorizationError\u001b[0m: Server could not verify that you are authorized to access the requested document."
     ]
    }
   ],
   "source": [
    "new_ticket = {'Requestor': ['root@localhost'],\n",
    "              }\n",
    "res = c.create_ticket('General',\n",
    "                      subject='Test subject',\n",
    "                      content='Ticket body...',\n",
    "                      **new_ticket\n",
    "                      )"
   ]
  },
  {
   "cell_type": "code",
   "execution_count": 14,
   "id": "5b03118c",
   "metadata": {},
   "outputs": [],
   "source": [
    "jn = Jobneed.objects.filter(id = 6951)[0]"
   ]
  },
  {
   "cell_type": "code",
   "execution_count": 16,
   "id": "ba404f13",
   "metadata": {},
   "outputs": [
    {
     "name": "stdout",
     "output_type": "stream",
     "text": [
      " 2023-01-25 18:03:32,472  INFO        from method: alert_observation                 << Sending alert mail with subject [READINGS ALERT] Site with Name: ICICI SPS HOUSE having checklist [GATE CHECKLIST] - readings out of range >>\n",
      " 2023-01-25 18:03:32,474  INFO        from method: alert_observation                 << Attachments are going to attach >>\n",
      " 2023-01-25 18:03:32,487  INFO        from method: add_attachments                   << attachments are attached.... >>\n",
      " 2023-01-25 18:03:32,489  INFO        from method: add_attachments                   << attachments are attached.... >>\n",
      " 2023-01-25 18:03:32,490  INFO        from method: add_attachments                   << attachments are attached.... >>\n",
      " 2023-01-25 18:03:32,492  INFO        from method: add_attachments                   << attachments are attached.... >>\n",
      " 2023-01-25 18:03:38,687  INFO        from method: alert_observation                 << Alert mail sent to ['naveen.sargam@youtility.in', 'vaishvika.pawar@youtility.in', 'namrata.shahid@gmail.com', 'dilvag.sjngh@spsindia.com', 'naveen.sargam@youtility.in', 'n.shahid@yahoo.co.in', 'namrata.shahid@youtility.in', 'namrata.shahid@gmail.com'] with subject [READINGS ALERT] Site with Name: ICICI SPS HOUSE having checklist [GATE CHECKLIST] - readings out of range >>\n"
     ]
    }
   ],
   "source": [
    "from apps.service.utils import get_email_recipients, add_attachments, alert_observation\n",
    "alert_observation(jn, True)"
   ]
  },
  {
   "cell_type": "code",
   "execution_count": 53,
   "id": "d9cd3400",
   "metadata": {},
   "outputs": [
    {
     "name": "stdout",
     "output_type": "stream",
     "text": [
      "Unexpected exception formatting exception. Falling back to standard exception\n"
     ]
    },
    {
     "name": "stderr",
     "output_type": "stream",
     "text": [
      "Traceback (most recent call last):\n",
      "  File \"/home/redmine/envs/youtility4/lib/python3.10/site-packages/IPython/core/interactiveshell.py\", line 3397, in run_code\n",
      "    exec(code_obj, self.user_global_ns, self.user_ns)\n",
      "  File \"/tmp/ipykernel_1419529/616534649.py\", line 4, in <cell line: 4>\n",
      "    add_attachments(jn, msg)\n",
      "  File \"/home/redmine/youtility4_icici/apps/service/utils.py\", line 523, in add_attachments\n",
      "  File \"/home/redmine/envs/youtility4/lib/python3.10/site-packages/django/core/files/storage.py\", line 38, in open\n",
      "    return self._open(name, mode)\n",
      "  File \"/home/redmine/envs/youtility4/lib/python3.10/site-packages/django/core/files/storage.py\", line 243, in _open\n",
      "    return File(open(self.path(name), mode))\n",
      "  File \"/home/redmine/envs/youtility4/lib/python3.10/site-packages/django/core/files/storage.py\", line 338, in path\n",
      "    return safe_join(self.location, name)\n",
      "  File \"/home/redmine/envs/youtility4/lib/python3.10/site-packages/django/utils/_os.py\", line 29, in safe_join\n",
      "    raise SuspiciousFileOperation(\n",
      "django.core.exceptions.SuspiciousFileOperation: The joined path (/youtility4_media/transaction/37/TASK/2023/Jan/2023-01-25_16:56:10.713812.png) is located outside of the base path component (/var/tmp/youtility4_media)\n",
      "\n",
      "During handling of the above exception, another exception occurred:\n",
      "\n",
      "Traceback (most recent call last):\n",
      "  File \"/home/redmine/envs/youtility4/lib/python3.10/site-packages/IPython/core/interactiveshell.py\", line 1992, in showtraceback\n",
      "    stb = self.InteractiveTB.structured_traceback(\n",
      "  File \"/home/redmine/envs/youtility4/lib/python3.10/site-packages/IPython/core/ultratb.py\", line 1118, in structured_traceback\n",
      "    return FormattedTB.structured_traceback(\n",
      "  File \"/home/redmine/envs/youtility4/lib/python3.10/site-packages/IPython/core/ultratb.py\", line 1012, in structured_traceback\n",
      "    return VerboseTB.structured_traceback(\n",
      "  File \"/home/redmine/envs/youtility4/lib/python3.10/site-packages/IPython/core/ultratb.py\", line 865, in structured_traceback\n",
      "    formatted_exception = self.format_exception_as_a_whole(etype, evalue, etb, number_of_lines_of_context,\n",
      "  File \"/home/redmine/envs/youtility4/lib/python3.10/site-packages/IPython/core/ultratb.py\", line 818, in format_exception_as_a_whole\n",
      "    frames.append(self.format_record(r))\n",
      "  File \"/home/redmine/envs/youtility4/lib/python3.10/site-packages/IPython/core/ultratb.py\", line 736, in format_record\n",
      "    result += ''.join(_format_traceback_lines(frame_info.lines, Colors, self.has_colors, lvals))\n",
      "  File \"/home/redmine/envs/youtility4/lib/python3.10/site-packages/stack_data/utils.py\", line 145, in cached_property_wrapper\n",
      "    value = obj.__dict__[self.func.__name__] = self.func(obj)\n",
      "  File \"/home/redmine/envs/youtility4/lib/python3.10/site-packages/stack_data/core.py\", line 698, in lines\n",
      "    pieces = self.included_pieces\n",
      "  File \"/home/redmine/envs/youtility4/lib/python3.10/site-packages/stack_data/utils.py\", line 145, in cached_property_wrapper\n",
      "    value = obj.__dict__[self.func.__name__] = self.func(obj)\n",
      "  File \"/home/redmine/envs/youtility4/lib/python3.10/site-packages/stack_data/core.py\", line 649, in included_pieces\n",
      "    pos = scope_pieces.index(self.executing_piece)\n",
      "  File \"/home/redmine/envs/youtility4/lib/python3.10/site-packages/stack_data/utils.py\", line 145, in cached_property_wrapper\n",
      "    value = obj.__dict__[self.func.__name__] = self.func(obj)\n",
      "  File \"/home/redmine/envs/youtility4/lib/python3.10/site-packages/stack_data/core.py\", line 628, in executing_piece\n",
      "    return only(\n",
      "  File \"/home/redmine/envs/youtility4/lib/python3.10/site-packages/executing/executing.py\", line 164, in only\n",
      "    raise NotOneValueFound('Expected one value, found 0')\n",
      "executing.executing.NotOneValueFound: Expected one value, found 0\n"
     ]
    }
   ],
   "source": [
    "from django.core.mail import EmailMessage\n",
    "msg = EmailMessage()\n",
    "msg.subject = \"Test Subject\"\n",
    "add_attachments(jn, msg)"
   ]
  },
  {
   "cell_type": "code",
   "execution_count": null,
   "id": "a1d37917",
   "metadata": {},
   "outputs": [],
   "source": [
    "JND = JobneedDetails.objects.filter(jobneed_id = jobneed.id)"
   ]
  }
 ],
 "metadata": {
  "kernelspec": {
   "display_name": "Django Shell-Plus",
   "language": "python",
   "name": "django_extensions"
  },
  "language_info": {
   "codemirror_mode": {
    "name": "ipython",
    "version": 3
   },
   "file_extension": ".py",
   "mimetype": "text/x-python",
   "name": "python",
   "nbconvert_exporter": "python",
   "pygments_lexer": "ipython3",
   "version": "3.10.6"
  }
 },
 "nbformat": 4,
 "nbformat_minor": 5
}
